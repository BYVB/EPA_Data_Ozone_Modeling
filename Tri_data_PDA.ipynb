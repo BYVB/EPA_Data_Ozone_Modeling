{
 "cells": [
  {
   "cell_type": "code",
   "execution_count": 451,
   "metadata": {
    "collapsed": false
   },
   "outputs": [],
   "source": [
    "import pandas as pd\n",
    "import numpy as np\n",
    "import pickle\n",
    "from sklearn.preprocessing import LabelEncoder\n",
    "from sklearn.grid_search import GridSearchCV\n",
    "from sklearn.linear_model import LassoCV\n",
    "from sklearn.cross_validation import cross_val_score\n",
    "from sklearn.linear_model import LogisticRegression\n",
    "from sklearn.ensemble import RandomForestClassifier\n",
    "from sklearn.neighbors import KNeighborsClassifier\n",
    "import seaborn as sns\n",
    "import matplotlib.pyplot as plt\n",
    "\n",
    "import folium\n",
    "%matplotlib inline\n"
   ]
  },
  {
   "cell_type": "code",
   "execution_count": 340,
   "metadata": {
    "collapsed": false
   },
   "outputs": [
    {
     "name": "stdout",
     "output_type": "stream",
     "text": [
      "/bin/sh: sklearn.__version__: command not found\r\n"
     ]
    }
   ],
   "source": [
    "! sklearn.__version__"
   ]
  },
  {
   "cell_type": "code",
   "execution_count": 341,
   "metadata": {
    "collapsed": true
   },
   "outputs": [],
   "source": [
    "TRI_14 = pd.read_csv(\"TRI_env_factors/TRI_2014_CA.csv\")\n"
   ]
  },
  {
   "cell_type": "code",
   "execution_count": 342,
   "metadata": {
    "collapsed": true
   },
   "outputs": [],
   "source": [
    "#Clean air act chemicals are ones on this list: https://www.epa.gov/epcra/epcracerclacaa-ss112r-consolidated-list-lists-march-2015-version"
   ]
  },
  {
   "cell_type": "code",
   "execution_count": 343,
   "metadata": {
    "collapsed": false
   },
   "outputs": [],
   "source": [
    "# TRI_14[TRI_14['CLEAR_AIR_ACT_CHEMICAL']=='YES']"
   ]
  },
  {
   "cell_type": "code",
   "execution_count": 344,
   "metadata": {
    "collapsed": false
   },
   "outputs": [],
   "source": [
    "# TRI_14[[\n",
    "# '5.4_UNDERGROUND',\n",
    "# '5.4.1_UNDERGROUND_CLASS_I',\n",
    "# '5.4.2_UNDERGROUND_CLASS_II-V',\n",
    "# '5.5.1_LANDFILLS',\n",
    "# '5.5.1A_RCRA_C_LANDFILLS',\n",
    "# '5.5.1B_OTHER_LANDFILLS',\n",
    "# '5.5.2_LAND_TREATMENT',\n",
    "# '5.5.3_SURFACE_IMPOUNDMENT',\n",
    "# '5.5.3A_RCRA_C_SURFACE_IMP.',\n",
    "# '5.5.3B_Other_SURFACE_IMP.',\n",
    "# '5.5.4_OTHER_DISPOSAL']]"
   ]
  },
  {
   "cell_type": "code",
   "execution_count": 345,
   "metadata": {
    "collapsed": false
   },
   "outputs": [
    {
     "data": {
      "text/plain": [
       "5"
      ]
     },
     "execution_count": 345,
     "metadata": {},
     "output_type": "execute_result"
    }
   ],
   "source": [
    "TRI_14['METAL_CATEGORY'].nunique()\n",
    "# TRI_14\n",
    "# 'INDUSTRY_SECTOR_CODE'\n"
   ]
  },
  {
   "cell_type": "code",
   "execution_count": 346,
   "metadata": {
    "collapsed": false
   },
   "outputs": [
    {
     "name": "stdout",
     "output_type": "stream",
     "text": [
      "YEAR\n",
      "TRI_FACILITY_ID\n",
      "FRS_ID\n",
      "FACILITY_NAME\n",
      "STREET_ADDRESS\n",
      "CITY\n",
      "COUNTY\n",
      "ST\n",
      "ZIP\n",
      "BIA_CODE\n",
      "TRIBE\n",
      "LATITUDE\n",
      "LONGITUDE\n",
      "FEDERAL_FACILITY\n",
      "INDUSTRY_SECTOR_CODE\n",
      "INDUSTRY_SECTOR\n",
      "PRIMARY_SIC\n",
      "SIC_2\n",
      "SIC_3\n",
      "SIC_4\n",
      "SIC_5\n",
      "SIC_6\n",
      "PRIMARY_NAICS\n",
      "NAICS_2\n",
      "NAICS_3\n",
      "NAICS_4\n",
      "NAICS_5\n",
      "NAICS_6\n",
      "DOC_CTRL_NUM\n",
      "CHEMICAL\n",
      "CAS_#/COMPOUND_ID\n",
      "SRS_ID\n",
      "CLEAR_AIR_ACT_CHEMICAL\n",
      "CLASSIFICATION\n",
      "METAL\n",
      "METAL_CATEGORY\n",
      "CARCINOGEN\n",
      "FORM_TYPE\n",
      "UNIT_OF_MEASURE\n",
      "5.1_FUGITIVE_AIR\n",
      "5.2_STACK_AIR\n",
      "5.3_WATER\n",
      "5.4_UNDERGROUND\n",
      "5.4.1_UNDERGROUND_CLASS_I\n",
      "5.4.2_UNDERGROUND_CLASS_II-V\n",
      "5.5.1_LANDFILLS\n",
      "5.5.1A_RCRA_C_LANDFILLS\n",
      "5.5.1B_OTHER_LANDFILLS\n",
      "5.5.2_LAND_TREATMENT\n",
      "5.5.3_SURFACE_IMPOUNDMENT\n",
      "5.5.3A_RCRA_C_SURFACE_IMP.\n",
      "5.5.3B_Other_SURFACE_IMP.\n",
      "5.5.4_OTHER_DISPOSAL\n",
      "ON-SITE_RELEASE_TOTAL\n",
      "6.1_POTW-TRANSFERS_FOR_RELEASE\n",
      "6.1_POTW-TRANSFERS_FOR_TREATM.\n",
      "6.1_POTW-TOTAL_TRANSFERS\n",
      "6.2_M10\n",
      "6.2_M41\n",
      "6.2_M62\n",
      "6.2_M71\n",
      "6.2_M81\n",
      "6.2_M82\n",
      "6.2_M72\n",
      "6.2_M63\n",
      "6.2_M66\n",
      "6.2_M67\n",
      "6.2_M64\n",
      "6.2_M65\n",
      "6.2_M73\n",
      "6.2_M79\n",
      "6.2_M90\n",
      "6.2_M94\n",
      "6.2_M99\n",
      "OFF-SITE_RELEASE_TOTAL\n",
      "6.2_M20\n",
      "6.2_M24\n",
      "6.2_M26\n",
      "6.2_M28\n",
      "6.2_M93\n",
      "OFF-SITE_RECYCLED_TOTAL\n",
      "6.2_M56\n",
      "6.2_M92\n",
      "OFF-SITE_RECOVERY_TOTAL\n",
      "6.2_M40\n",
      "6.2_M50\n",
      "6.2_M54\n",
      "6.2_M61\n",
      "6.2_M69\n",
      "6.2_M95\n",
      "OFF-SITE_TREATED_TOTAL\n",
      "TOTAL_RELEASES\n",
      "8.1_RELEASES\n",
      "8.1A_ON-SITE_CONTAINED_REL.\n",
      "8.1B_ON-SITE_OTHER_RELEASES\n",
      "8.1C_OFF-SITE_CONTAINED_REL.\n",
      "8.1D_OFF-SITE_OTHER_RELEASES\n",
      "8.2_ENERGY_RECOVERY_ON-SITE\n",
      "8.3_ENERGY_RECOVERY_OFF-SITE\n",
      "8.4_RECYCLING_ON-SITE\n",
      " 8.5_RECYCLING_OFF-SITE\n",
      "8.6_TREATMENT_ON-SITE\n",
      "8.7_TREATMENT_OFF-SITE\n",
      "PROD._WASTE_(8.1_THRU_8.7)\n",
      "8.8_ONE-TIME_RELEASE\n",
      "PROD_RATIO_OR_ACTIVITY\n",
      "8.9_PRODUCTION_RATIO\n",
      "PARENT_COMPANY_NAME\n",
      "PARENT_COMPANY_DB_NUMBER\n",
      "Unnamed: 109\n"
     ]
    }
   ],
   "source": [
    "ii = TRI_14.columns\n",
    "for i in ii:  \n",
    "    print i"
   ]
  },
  {
   "cell_type": "code",
   "execution_count": 347,
   "metadata": {
    "collapsed": false
   },
   "outputs": [],
   "source": [
    "\n",
    "TRI_14_sm = TRI_14[['TRI_FACILITY_ID',\n",
    "'COUNTY',\n",
    "'LATITUDE',\n",
    "'LONGITUDE', \n",
    "'CLEAR_AIR_ACT_CHEMICAL',\n",
    "'PRIMARY_NAICS',\n",
    "'METAL_CATEGORY',\n",
    "'INDUSTRY_SECTOR_CODE',\n",
    "'CLASSIFICATION',\n",
    "'CHEMICAL',\n",
    "'CARCINOGEN',\n",
    "'UNIT_OF_MEASURE',\n",
    "'5.1_FUGITIVE_AIR',\n",
    "'5.2_STACK_AIR',\n",
    "'5.3_WATER',\n",
    "'ON-SITE_RELEASE_TOTAL', \n",
    "'OFF-SITE_RELEASE_TOTAL',\n",
    "'OFF-SITE_RECYCLED_TOTAL',\n",
    "'OFF-SITE_TREATED_TOTAL',\n",
    "'OFF-SITE_RECOVERY_TOTAL',\n",
    "'PROD._WASTE_(8.1_THRU_8.7)',\n",
    "'TOTAL_RELEASES']]\n"
   ]
  },
  {
   "cell_type": "code",
   "execution_count": 348,
   "metadata": {
    "collapsed": false
   },
   "outputs": [],
   "source": [
    "\n",
    "TRI_14_sm.columns = ['TRI_FACILITY_ID',\n",
    "'COUNTY',\n",
    "'LATITUDE',\n",
    "'LONGITUDE', \n",
    "'CLEAR_AIR_ACT_CHEMICAL',\n",
    "'PRIMARY_NAICS',\n",
    "'METAL_CATEGORY',\n",
    "'INDUSTRY_SECTOR_CODE',\n",
    "'CLASSIFICATION',\n",
    "'CHEMICAL',\n",
    "'CARCINOGEN',\n",
    "'UNIT_OF_MEASURE',\n",
    "'5.1_FUGITIVE_AIR',\n",
    "'5.2_STACK_AIR',\n",
    "'5.3_WATER',\n",
    "'ON-SITE_RELEASE_TOTAL', \n",
    "'OFF-SITE_RELEASE_TOTAL',\n",
    "'OFF-SITE_RECYCLED_TOTAL',\n",
    "'OFF-SITE_TREATED_TOTAL',\n",
    "'OFF-SITE_RECOVERY_TOTAL',\n",
    "'PROD._WASTE_(8.1_THRU_8.7)',\n",
    "'TOTAL_RELEASES']"
   ]
  },
  {
   "cell_type": "code",
   "execution_count": 450,
   "metadata": {
    "collapsed": false
   },
   "outputs": [
    {
     "data": {
      "text/html": [
       "<div>\n",
       "<table border=\"1\" class=\"dataframe\">\n",
       "  <thead>\n",
       "    <tr style=\"text-align: right;\">\n",
       "      <th></th>\n",
       "      <th>TRI_FACILITY_ID</th>\n",
       "      <th>COUNTY</th>\n",
       "      <th>LATITUDE</th>\n",
       "      <th>LONGITUDE</th>\n",
       "      <th>CLEAR_AIR_ACT_CHEMICAL</th>\n",
       "      <th>PRIMARY_NAICS</th>\n",
       "      <th>METAL_CATEGORY</th>\n",
       "      <th>INDUSTRY_SECTOR_CODE</th>\n",
       "      <th>CLASSIFICATION</th>\n",
       "      <th>CHEMICAL</th>\n",
       "      <th>...</th>\n",
       "      <th>5.3_WATER</th>\n",
       "      <th>ON-SITE_RELEASE_TOTAL</th>\n",
       "      <th>OFF-SITE_RELEASE_TOTAL</th>\n",
       "      <th>OFF-SITE_RECYCLED_TOTAL</th>\n",
       "      <th>OFF-SITE_TREATED_TOTAL</th>\n",
       "      <th>OFF-SITE_RECOVERY_TOTAL</th>\n",
       "      <th>PROD._WASTE_(8.1_THRU_8.7)</th>\n",
       "      <th>TOTAL_RELEASES</th>\n",
       "      <th>County</th>\n",
       "      <th>2014</th>\n",
       "    </tr>\n",
       "  </thead>\n",
       "  <tbody>\n",
       "    <tr>\n",
       "      <th>0</th>\n",
       "      <td>91739SLPRL12281</td>\n",
       "      <td>san bernardino</td>\n",
       "      <td>34.099080</td>\n",
       "      <td>-117.536523</td>\n",
       "      <td>0</td>\n",
       "      <td>325193</td>\n",
       "      <td>0</td>\n",
       "      <td>325</td>\n",
       "      <td>TRI</td>\n",
       "      <td>NITRATE COMPOUNDS</td>\n",
       "      <td>...</td>\n",
       "      <td>0.00</td>\n",
       "      <td>0.0000</td>\n",
       "      <td>0.0</td>\n",
       "      <td>0.00</td>\n",
       "      <td>16457.00</td>\n",
       "      <td>0.0</td>\n",
       "      <td>16457.0000</td>\n",
       "      <td>0.0000</td>\n",
       "      <td>san bernardino</td>\n",
       "      <td>138.166667</td>\n",
       "    </tr>\n",
       "    <tr>\n",
       "      <th>1</th>\n",
       "      <td>90810CRSNT2365E</td>\n",
       "      <td>los angeles</td>\n",
       "      <td>33.805420</td>\n",
       "      <td>-118.225650</td>\n",
       "      <td>0</td>\n",
       "      <td>424710</td>\n",
       "      <td>0</td>\n",
       "      <td>4247</td>\n",
       "      <td>TRI</td>\n",
       "      <td>1,2,4-TRIMETHYLBENZENE</td>\n",
       "      <td>...</td>\n",
       "      <td>8.08</td>\n",
       "      <td>207.4800</td>\n",
       "      <td>0.0</td>\n",
       "      <td>10.48</td>\n",
       "      <td>0.21</td>\n",
       "      <td>0.0</td>\n",
       "      <td>218.1600</td>\n",
       "      <td>207.4800</td>\n",
       "      <td>los angeles</td>\n",
       "      <td>138.250000</td>\n",
       "    </tr>\n",
       "    <tr>\n",
       "      <th>2</th>\n",
       "      <td>90810CRSNT2365E</td>\n",
       "      <td>los angeles</td>\n",
       "      <td>33.805420</td>\n",
       "      <td>-118.225650</td>\n",
       "      <td>1</td>\n",
       "      <td>424710</td>\n",
       "      <td>0</td>\n",
       "      <td>4247</td>\n",
       "      <td>TRI</td>\n",
       "      <td>PHENANTHRENE</td>\n",
       "      <td>...</td>\n",
       "      <td>0.00</td>\n",
       "      <td>0.4610</td>\n",
       "      <td>0.0</td>\n",
       "      <td>0.00</td>\n",
       "      <td>0.00</td>\n",
       "      <td>0.0</td>\n",
       "      <td>0.4610</td>\n",
       "      <td>0.4610</td>\n",
       "      <td>los angeles</td>\n",
       "      <td>138.250000</td>\n",
       "    </tr>\n",
       "    <tr>\n",
       "      <th>4</th>\n",
       "      <td>90280GRDNF5611E</td>\n",
       "      <td>los angeles</td>\n",
       "      <td>33.931251</td>\n",
       "      <td>-118.172539</td>\n",
       "      <td>0</td>\n",
       "      <td>311513</td>\n",
       "      <td>0</td>\n",
       "      <td>311</td>\n",
       "      <td>TRI</td>\n",
       "      <td>NITRIC ACID</td>\n",
       "      <td>...</td>\n",
       "      <td>0.00</td>\n",
       "      <td>0.0000</td>\n",
       "      <td>0.0</td>\n",
       "      <td>0.00</td>\n",
       "      <td>0.00</td>\n",
       "      <td>0.0</td>\n",
       "      <td>88749.0000</td>\n",
       "      <td>0.0000</td>\n",
       "      <td>los angeles</td>\n",
       "      <td>138.250000</td>\n",
       "    </tr>\n",
       "    <tr>\n",
       "      <th>5</th>\n",
       "      <td>94566TLTYV3786V</td>\n",
       "      <td>alameda</td>\n",
       "      <td>37.674740</td>\n",
       "      <td>-121.862060</td>\n",
       "      <td>1</td>\n",
       "      <td>327390</td>\n",
       "      <td>1</td>\n",
       "      <td>327</td>\n",
       "      <td>PBT</td>\n",
       "      <td>LEAD</td>\n",
       "      <td>...</td>\n",
       "      <td>0.00</td>\n",
       "      <td>0.0016</td>\n",
       "      <td>0.0</td>\n",
       "      <td>0.00</td>\n",
       "      <td>0.00</td>\n",
       "      <td>0.0</td>\n",
       "      <td>0.0016</td>\n",
       "      <td>0.0016</td>\n",
       "      <td>alameda</td>\n",
       "      <td>79.750000</td>\n",
       "    </tr>\n",
       "  </tbody>\n",
       "</table>\n",
       "<p>5 rows × 24 columns</p>\n",
       "</div>"
      ],
      "text/plain": [
       "   TRI_FACILITY_ID          COUNTY   LATITUDE   LONGITUDE  \\\n",
       "0  91739SLPRL12281  san bernardino  34.099080 -117.536523   \n",
       "1  90810CRSNT2365E     los angeles  33.805420 -118.225650   \n",
       "2  90810CRSNT2365E     los angeles  33.805420 -118.225650   \n",
       "4  90280GRDNF5611E     los angeles  33.931251 -118.172539   \n",
       "5  94566TLTYV3786V         alameda  37.674740 -121.862060   \n",
       "\n",
       "   CLEAR_AIR_ACT_CHEMICAL  PRIMARY_NAICS  METAL_CATEGORY  \\\n",
       "0                       0         325193               0   \n",
       "1                       0         424710               0   \n",
       "2                       1         424710               0   \n",
       "4                       0         311513               0   \n",
       "5                       1         327390               1   \n",
       "\n",
       "   INDUSTRY_SECTOR_CODE CLASSIFICATION                CHEMICAL     ...      \\\n",
       "0                   325            TRI       NITRATE COMPOUNDS     ...       \n",
       "1                  4247            TRI  1,2,4-TRIMETHYLBENZENE     ...       \n",
       "2                  4247            TRI            PHENANTHRENE     ...       \n",
       "4                   311            TRI             NITRIC ACID     ...       \n",
       "5                   327            PBT                    LEAD     ...       \n",
       "\n",
       "   5.3_WATER  ON-SITE_RELEASE_TOTAL  OFF-SITE_RELEASE_TOTAL  \\\n",
       "0       0.00                 0.0000                     0.0   \n",
       "1       8.08               207.4800                     0.0   \n",
       "2       0.00                 0.4610                     0.0   \n",
       "4       0.00                 0.0000                     0.0   \n",
       "5       0.00                 0.0016                     0.0   \n",
       "\n",
       "   OFF-SITE_RECYCLED_TOTAL  OFF-SITE_TREATED_TOTAL  OFF-SITE_RECOVERY_TOTAL  \\\n",
       "0                     0.00                16457.00                      0.0   \n",
       "1                    10.48                    0.21                      0.0   \n",
       "2                     0.00                    0.00                      0.0   \n",
       "4                     0.00                    0.00                      0.0   \n",
       "5                     0.00                    0.00                      0.0   \n",
       "\n",
       "   PROD._WASTE_(8.1_THRU_8.7)  TOTAL_RELEASES          County        2014  \n",
       "0                  16457.0000          0.0000  san bernardino  138.166667  \n",
       "1                    218.1600        207.4800     los angeles  138.250000  \n",
       "2                      0.4610          0.4610     los angeles  138.250000  \n",
       "4                  88749.0000          0.0000     los angeles  138.250000  \n",
       "5                      0.0016          0.0016         alameda   79.750000  \n",
       "\n",
       "[5 rows x 24 columns]"
      ]
     },
     "execution_count": 450,
     "metadata": {},
     "output_type": "execute_result"
    }
   ],
   "source": [
    "TRI_14_sm.head()"
   ]
  },
  {
   "cell_type": "markdown",
   "metadata": {},
   "source": [
    "This was an original export for some vizzes."
   ]
  },
  {
   "cell_type": "code",
   "execution_count": 350,
   "metadata": {
    "collapsed": false,
    "scrolled": true
   },
   "outputs": [],
   "source": [
    "# county_tox_tots = TRI_14_sm.groupby([\"COUNTY\",'CHEMICAL','UNIT_OF_MEASURE' ], as_index = False).sum()"
   ]
  },
  {
   "cell_type": "code",
   "execution_count": 351,
   "metadata": {
    "collapsed": true
   },
   "outputs": [],
   "source": [
    "# county_tox_tots.to_csv(\"county_tox_tots.csv\")"
   ]
  },
  {
   "cell_type": "code",
   "execution_count": 352,
   "metadata": {
    "collapsed": false
   },
   "outputs": [],
   "source": [
    "# facility_tox_tots = TRI_14_sm.groupby([\"TRI_FACILITY_ID\",\"LATITUDE\",'LONGITUDE' ], as_index = False)['TOTAL_RELEASES'].sum()"
   ]
  },
  {
   "cell_type": "code",
   "execution_count": 353,
   "metadata": {
    "collapsed": true
   },
   "outputs": [],
   "source": [
    "# facility_tox_tots.to_csv(\"facility_tox_tots.csv\")"
   ]
  },
  {
   "cell_type": "code",
   "execution_count": 354,
   "metadata": {
    "collapsed": true
   },
   "outputs": [],
   "source": [
    "# with open('2013_county_vars.pkl', 'w') as picklefile:\n",
    "#     pickle.dump(rmean_2013, picklefile)"
   ]
  },
  {
   "cell_type": "markdown",
   "metadata": {},
   "source": [
    "This is loading in the county distributions from 2013,2014,2015."
   ]
  },
  {
   "cell_type": "code",
   "execution_count": 355,
   "metadata": {
    "collapsed": false
   },
   "outputs": [],
   "source": [
    "with open('2013_county_vars.pkl', 'r') as picklefile:\n",
    "    cnty_2013 = pickle.load(picklefile)"
   ]
  },
  {
   "cell_type": "code",
   "execution_count": 356,
   "metadata": {
    "collapsed": true
   },
   "outputs": [],
   "source": [
    "with open('2014_county_vars.pkl', 'r') as picklefile:\n",
    "    cnty_2014 = pickle.load(picklefile)"
   ]
  },
  {
   "cell_type": "code",
   "execution_count": 357,
   "metadata": {
    "collapsed": true
   },
   "outputs": [],
   "source": [
    "with open('2015_county_vars.pkl', 'r') as picklefile:\n",
    "    cnty_2015 = pickle.load(picklefile)"
   ]
  },
  {
   "cell_type": "code",
   "execution_count": 358,
   "metadata": {
    "collapsed": true
   },
   "outputs": [],
   "source": [
    "with open('all_ctys_dict.pkl', 'r') as picklefile:\n",
    "    all_ctys_dict = pickle.load(picklefile)"
   ]
  },
  {
   "cell_type": "code",
   "execution_count": 359,
   "metadata": {
    "collapsed": false
   },
   "outputs": [],
   "source": [
    "with open('county_name_list.pkl', 'r') as picklefile:\n",
    "    all_CA_county_list = pickle.load(picklefile)"
   ]
  },
  {
   "cell_type": "code",
   "execution_count": 360,
   "metadata": {
    "collapsed": false
   },
   "outputs": [],
   "source": [
    "\n",
    "\n",
    "with open('county_year_vals.pkl', 'r') as picklefile:\n",
    "    all_cty_yr_dict = pickle.load(picklefile)"
   ]
  },
  {
   "cell_type": "code",
   "execution_count": 445,
   "metadata": {
    "collapsed": false
   },
   "outputs": [
    {
     "data": {
      "text/html": [
       "<div>\n",
       "<table border=\"1\" class=\"dataframe\">\n",
       "  <thead>\n",
       "    <tr style=\"text-align: right;\">\n",
       "      <th></th>\n",
       "      <th>TRI_FACILITY_ID</th>\n",
       "      <th>COUNTY</th>\n",
       "      <th>LATITUDE</th>\n",
       "      <th>LONGITUDE</th>\n",
       "      <th>CLEAR_AIR_ACT_CHEMICAL</th>\n",
       "      <th>PRIMARY_NAICS</th>\n",
       "      <th>METAL_CATEGORY</th>\n",
       "      <th>INDUSTRY_SECTOR_CODE</th>\n",
       "      <th>CLASSIFICATION</th>\n",
       "      <th>CHEMICAL</th>\n",
       "      <th>...</th>\n",
       "      <th>5.3_WATER</th>\n",
       "      <th>ON-SITE_RELEASE_TOTAL</th>\n",
       "      <th>OFF-SITE_RELEASE_TOTAL</th>\n",
       "      <th>OFF-SITE_RECYCLED_TOTAL</th>\n",
       "      <th>OFF-SITE_TREATED_TOTAL</th>\n",
       "      <th>OFF-SITE_RECOVERY_TOTAL</th>\n",
       "      <th>PROD._WASTE_(8.1_THRU_8.7)</th>\n",
       "      <th>TOTAL_RELEASES</th>\n",
       "      <th>County</th>\n",
       "      <th>2014</th>\n",
       "    </tr>\n",
       "  </thead>\n",
       "  <tbody>\n",
       "    <tr>\n",
       "      <th>0</th>\n",
       "      <td>91739SLPRL12281</td>\n",
       "      <td>san bernardino</td>\n",
       "      <td>34.09908</td>\n",
       "      <td>-117.536523</td>\n",
       "      <td>0</td>\n",
       "      <td>325193</td>\n",
       "      <td>0</td>\n",
       "      <td>325</td>\n",
       "      <td>TRI</td>\n",
       "      <td>NITRATE COMPOUNDS</td>\n",
       "      <td>...</td>\n",
       "      <td>0.00</td>\n",
       "      <td>0.00</td>\n",
       "      <td>0.0</td>\n",
       "      <td>0.00</td>\n",
       "      <td>16457.00</td>\n",
       "      <td>0.0</td>\n",
       "      <td>16457.00</td>\n",
       "      <td>0.00</td>\n",
       "      <td>san bernardino</td>\n",
       "      <td>138.166667</td>\n",
       "    </tr>\n",
       "    <tr>\n",
       "      <th>1</th>\n",
       "      <td>90810CRSNT2365E</td>\n",
       "      <td>los angeles</td>\n",
       "      <td>33.80542</td>\n",
       "      <td>-118.225650</td>\n",
       "      <td>0</td>\n",
       "      <td>424710</td>\n",
       "      <td>0</td>\n",
       "      <td>4247</td>\n",
       "      <td>TRI</td>\n",
       "      <td>1,2,4-TRIMETHYLBENZENE</td>\n",
       "      <td>...</td>\n",
       "      <td>8.08</td>\n",
       "      <td>207.48</td>\n",
       "      <td>0.0</td>\n",
       "      <td>10.48</td>\n",
       "      <td>0.21</td>\n",
       "      <td>0.0</td>\n",
       "      <td>218.16</td>\n",
       "      <td>207.48</td>\n",
       "      <td>los angeles</td>\n",
       "      <td>138.250000</td>\n",
       "    </tr>\n",
       "  </tbody>\n",
       "</table>\n",
       "<p>2 rows × 24 columns</p>\n",
       "</div>"
      ],
      "text/plain": [
       "   TRI_FACILITY_ID          COUNTY  LATITUDE   LONGITUDE  \\\n",
       "0  91739SLPRL12281  san bernardino  34.09908 -117.536523   \n",
       "1  90810CRSNT2365E     los angeles  33.80542 -118.225650   \n",
       "\n",
       "   CLEAR_AIR_ACT_CHEMICAL  PRIMARY_NAICS  METAL_CATEGORY  \\\n",
       "0                       0         325193               0   \n",
       "1                       0         424710               0   \n",
       "\n",
       "   INDUSTRY_SECTOR_CODE CLASSIFICATION                CHEMICAL     ...      \\\n",
       "0                   325            TRI       NITRATE COMPOUNDS     ...       \n",
       "1                  4247            TRI  1,2,4-TRIMETHYLBENZENE     ...       \n",
       "\n",
       "   5.3_WATER  ON-SITE_RELEASE_TOTAL  OFF-SITE_RELEASE_TOTAL  \\\n",
       "0       0.00                   0.00                     0.0   \n",
       "1       8.08                 207.48                     0.0   \n",
       "\n",
       "   OFF-SITE_RECYCLED_TOTAL  OFF-SITE_TREATED_TOTAL  OFF-SITE_RECOVERY_TOTAL  \\\n",
       "0                     0.00                16457.00                      0.0   \n",
       "1                    10.48                    0.21                      0.0   \n",
       "\n",
       "   PROD._WASTE_(8.1_THRU_8.7)  TOTAL_RELEASES          County        2014  \n",
       "0                    16457.00            0.00  san bernardino  138.166667  \n",
       "1                      218.16          207.48     los angeles  138.250000  \n",
       "\n",
       "[2 rows x 24 columns]"
      ]
     },
     "execution_count": 445,
     "metadata": {},
     "output_type": "execute_result"
    }
   ],
   "source": [
    "TRI_14_sm.head(2)"
   ]
  },
  {
   "cell_type": "code",
   "execution_count": 470,
   "metadata": {
    "collapsed": false
   },
   "outputs": [
    {
     "data": {
      "text/plain": [
       "<seaborn.axisgrid.FacetGrid at 0x1474d06d0>"
      ]
     },
     "execution_count": 470,
     "metadata": {},
     "output_type": "execute_result"
    },
    {
     "data": {
      "image/png": "[encoded data removed]",
      "text/plain": [
       "<matplotlib.figure.Figure at 0x14ad50790>"
      ]
     },
     "metadata": {},
     "output_type": "display_data"
    }
   ],
   "source": [
    "plt.rcParams['figure.figsize']=(10,10)\n",
    "sns.set(style=\"white\")\n",
    "sns.factorplot(x = 'COUNTY', \n",
    "               y ='INDUSTRY_SECTOR_CODE', \n",
    "               data = TRI_14_sm.groupby(['COUNTY'], as_index=False)['INDUSTRY_SECTOR_CODE'].count(), \n",
    "               size = 8,\n",
    "               kind = 'bar' ,\n",
    "#                orient= 'h'\n",
    "              ).set_xticklabels(rotation=65)\n",
    "\n",
    "\n",
    "# g = sns.factorplot(x='sample'\n",
    "#                    ,y= 'value'\n",
    "#                    ,hue='GEN'\n",
    "#                    ,data=data\n",
    "#                    ,kind='bar'\n",
    "#                    ,aspect=2\n",
    "#                    )\n",
    "# g;"
   ]
  },
  {
   "cell_type": "code",
   "execution_count": 438,
   "metadata": {
    "collapsed": false
   },
   "outputs": [],
   "source": [
    "# TRI_14_sm.groupby([ 'COUNTY','INDUSTRY_SECTOR_CODE', 'PRIMARY_NAICS' ])[2014].sum().hist()"
   ]
  },
  {
   "cell_type": "code",
   "execution_count": 362,
   "metadata": {
    "collapsed": true
   },
   "outputs": [],
   "source": [
    "le = LabelEncoder()"
   ]
  },
  {
   "cell_type": "code",
   "execution_count": 363,
   "metadata": {
    "collapsed": false,
    "scrolled": true
   },
   "outputs": [
    {
     "name": "stderr",
     "output_type": "stream",
     "text": [
      "/anaconda/lib/python2.7/site-packages/ipykernel/__main__.py:1: SettingWithCopyWarning: \n",
      "A value is trying to be set on a copy of a slice from a DataFrame.\n",
      "Try using .loc[row_indexer,col_indexer] = value instead\n",
      "\n",
      "See the caveats in the documentation: http://pandas.pydata.org/pandas-docs/stable/indexing.html#indexing-view-versus-copy\n",
      "  if __name__ == '__main__':\n",
      "/anaconda/lib/python2.7/site-packages/ipykernel/__main__.py:2: SettingWithCopyWarning: \n",
      "A value is trying to be set on a copy of a slice from a DataFrame.\n",
      "Try using .loc[row_indexer,col_indexer] = value instead\n",
      "\n",
      "See the caveats in the documentation: http://pandas.pydata.org/pandas-docs/stable/indexing.html#indexing-view-versus-copy\n",
      "  from ipykernel import kernelapp as app\n",
      "/anaconda/lib/python2.7/site-packages/ipykernel/__main__.py:3: SettingWithCopyWarning: \n",
      "A value is trying to be set on a copy of a slice from a DataFrame.\n",
      "Try using .loc[row_indexer,col_indexer] = value instead\n",
      "\n",
      "See the caveats in the documentation: http://pandas.pydata.org/pandas-docs/stable/indexing.html#indexing-view-versus-copy\n",
      "  app.launch_new_instance()\n"
     ]
    }
   ],
   "source": [
    "TRI_14_sm['CLEAR_AIR_ACT_CHEMICAL'] = le.fit_transform(TRI_14_sm['CLEAR_AIR_ACT_CHEMICAL'])\n",
    "TRI_14_sm['CARCINOGEN'] = le.fit_transform(TRI_14_sm['CARCINOGEN'])\n",
    "TRI_14_sm['UNIT_OF_MEASURE'] = le.fit_transform(TRI_14_sm['UNIT_OF_MEASURE'])"
   ]
  },
  {
   "cell_type": "code",
   "execution_count": 364,
   "metadata": {
    "collapsed": false,
    "scrolled": true
   },
   "outputs": [
    {
     "name": "stderr",
     "output_type": "stream",
     "text": [
      "/anaconda/lib/python2.7/site-packages/ipykernel/__main__.py:2: SettingWithCopyWarning: \n",
      "A value is trying to be set on a copy of a slice from a DataFrame.\n",
      "Try using .loc[row_indexer,col_indexer] = value instead\n",
      "\n",
      "See the caveats in the documentation: http://pandas.pydata.org/pandas-docs/stable/indexing.html#indexing-view-versus-copy\n",
      "  from ipykernel import kernelapp as app\n"
     ]
    }
   ],
   "source": [
    "TRI_14_sm.head()\n",
    "TRI_14_sm['COUNTY'] = TRI_14_sm['COUNTY'].apply(lambda x: x.lower())"
   ]
  },
  {
   "cell_type": "code",
   "execution_count": 365,
   "metadata": {
    "collapsed": false,
    "scrolled": false
   },
   "outputs": [],
   "source": [
    "cty_yr_df = pd.DataFrame(all_cty_yr_dict).T\n",
    "cty_yr_df = cty_yr_df.reset_index()\n",
    "cty_yr_df.columns = ['County', 2013, 2014, 2015]\n",
    "cty_yr_df = cty_yr_df.dropna()\n",
    "cty_yr_df['County'] = cty_yr_df['County'].apply(lambda x: x.lower())"
   ]
  },
  {
   "cell_type": "code",
   "execution_count": 366,
   "metadata": {
    "collapsed": false
   },
   "outputs": [],
   "source": [
    "TRI_14_sm = TRI_14_sm.merge(cty_yr_df[['County', 2014]],how = 'left', left_on ='COUNTY', right_on = \"County\" )"
   ]
  },
  {
   "cell_type": "code",
   "execution_count": 367,
   "metadata": {
    "collapsed": true
   },
   "outputs": [],
   "source": [
    "TRI_14_sm = TRI_14_sm[~np.isnan(TRI_14_sm[2014])]"
   ]
  },
  {
   "cell_type": "code",
   "execution_count": 368,
   "metadata": {
    "collapsed": false
   },
   "outputs": [
    {
     "data": {
      "text/html": [
       "<div>\n",
       "<table border=\"1\" class=\"dataframe\">\n",
       "  <thead>\n",
       "    <tr style=\"text-align: right;\">\n",
       "      <th></th>\n",
       "      <th>TRI_FACILITY_ID</th>\n",
       "      <th>COUNTY</th>\n",
       "      <th>LATITUDE</th>\n",
       "      <th>LONGITUDE</th>\n",
       "      <th>CLEAR_AIR_ACT_CHEMICAL</th>\n",
       "      <th>PRIMARY_NAICS</th>\n",
       "      <th>METAL_CATEGORY</th>\n",
       "      <th>INDUSTRY_SECTOR_CODE</th>\n",
       "      <th>CLASSIFICATION</th>\n",
       "      <th>CHEMICAL</th>\n",
       "      <th>...</th>\n",
       "      <th>5.3_WATER</th>\n",
       "      <th>ON-SITE_RELEASE_TOTAL</th>\n",
       "      <th>OFF-SITE_RELEASE_TOTAL</th>\n",
       "      <th>OFF-SITE_RECYCLED_TOTAL</th>\n",
       "      <th>OFF-SITE_TREATED_TOTAL</th>\n",
       "      <th>OFF-SITE_RECOVERY_TOTAL</th>\n",
       "      <th>PROD._WASTE_(8.1_THRU_8.7)</th>\n",
       "      <th>TOTAL_RELEASES</th>\n",
       "      <th>County</th>\n",
       "      <th>2014</th>\n",
       "    </tr>\n",
       "  </thead>\n",
       "  <tbody>\n",
       "    <tr>\n",
       "      <th>0</th>\n",
       "      <td>91739SLPRL12281</td>\n",
       "      <td>san bernardino</td>\n",
       "      <td>34.099080</td>\n",
       "      <td>-117.536523</td>\n",
       "      <td>0</td>\n",
       "      <td>325193</td>\n",
       "      <td>0</td>\n",
       "      <td>325</td>\n",
       "      <td>TRI</td>\n",
       "      <td>NITRATE COMPOUNDS</td>\n",
       "      <td>...</td>\n",
       "      <td>0.00</td>\n",
       "      <td>0.0000</td>\n",
       "      <td>0.0</td>\n",
       "      <td>0.00</td>\n",
       "      <td>16457.00</td>\n",
       "      <td>0.0</td>\n",
       "      <td>16457.0000</td>\n",
       "      <td>0.0000</td>\n",
       "      <td>san bernardino</td>\n",
       "      <td>138.166667</td>\n",
       "    </tr>\n",
       "    <tr>\n",
       "      <th>1</th>\n",
       "      <td>90810CRSNT2365E</td>\n",
       "      <td>los angeles</td>\n",
       "      <td>33.805420</td>\n",
       "      <td>-118.225650</td>\n",
       "      <td>0</td>\n",
       "      <td>424710</td>\n",
       "      <td>0</td>\n",
       "      <td>4247</td>\n",
       "      <td>TRI</td>\n",
       "      <td>1,2,4-TRIMETHYLBENZENE</td>\n",
       "      <td>...</td>\n",
       "      <td>8.08</td>\n",
       "      <td>207.4800</td>\n",
       "      <td>0.0</td>\n",
       "      <td>10.48</td>\n",
       "      <td>0.21</td>\n",
       "      <td>0.0</td>\n",
       "      <td>218.1600</td>\n",
       "      <td>207.4800</td>\n",
       "      <td>los angeles</td>\n",
       "      <td>138.250000</td>\n",
       "    </tr>\n",
       "    <tr>\n",
       "      <th>2</th>\n",
       "      <td>90810CRSNT2365E</td>\n",
       "      <td>los angeles</td>\n",
       "      <td>33.805420</td>\n",
       "      <td>-118.225650</td>\n",
       "      <td>1</td>\n",
       "      <td>424710</td>\n",
       "      <td>0</td>\n",
       "      <td>4247</td>\n",
       "      <td>TRI</td>\n",
       "      <td>PHENANTHRENE</td>\n",
       "      <td>...</td>\n",
       "      <td>0.00</td>\n",
       "      <td>0.4610</td>\n",
       "      <td>0.0</td>\n",
       "      <td>0.00</td>\n",
       "      <td>0.00</td>\n",
       "      <td>0.0</td>\n",
       "      <td>0.4610</td>\n",
       "      <td>0.4610</td>\n",
       "      <td>los angeles</td>\n",
       "      <td>138.250000</td>\n",
       "    </tr>\n",
       "    <tr>\n",
       "      <th>4</th>\n",
       "      <td>90280GRDNF5611E</td>\n",
       "      <td>los angeles</td>\n",
       "      <td>33.931251</td>\n",
       "      <td>-118.172539</td>\n",
       "      <td>0</td>\n",
       "      <td>311513</td>\n",
       "      <td>0</td>\n",
       "      <td>311</td>\n",
       "      <td>TRI</td>\n",
       "      <td>NITRIC ACID</td>\n",
       "      <td>...</td>\n",
       "      <td>0.00</td>\n",
       "      <td>0.0000</td>\n",
       "      <td>0.0</td>\n",
       "      <td>0.00</td>\n",
       "      <td>0.00</td>\n",
       "      <td>0.0</td>\n",
       "      <td>88749.0000</td>\n",
       "      <td>0.0000</td>\n",
       "      <td>los angeles</td>\n",
       "      <td>138.250000</td>\n",
       "    </tr>\n",
       "    <tr>\n",
       "      <th>5</th>\n",
       "      <td>94566TLTYV3786V</td>\n",
       "      <td>alameda</td>\n",
       "      <td>37.674740</td>\n",
       "      <td>-121.862060</td>\n",
       "      <td>1</td>\n",
       "      <td>327390</td>\n",
       "      <td>1</td>\n",
       "      <td>327</td>\n",
       "      <td>PBT</td>\n",
       "      <td>LEAD</td>\n",
       "      <td>...</td>\n",
       "      <td>0.00</td>\n",
       "      <td>0.0016</td>\n",
       "      <td>0.0</td>\n",
       "      <td>0.00</td>\n",
       "      <td>0.00</td>\n",
       "      <td>0.0</td>\n",
       "      <td>0.0016</td>\n",
       "      <td>0.0016</td>\n",
       "      <td>alameda</td>\n",
       "      <td>79.750000</td>\n",
       "    </tr>\n",
       "  </tbody>\n",
       "</table>\n",
       "<p>5 rows × 24 columns</p>\n",
       "</div>"
      ],
      "text/plain": [
       "   TRI_FACILITY_ID          COUNTY   LATITUDE   LONGITUDE  \\\n",
       "0  91739SLPRL12281  san bernardino  34.099080 -117.536523   \n",
       "1  90810CRSNT2365E     los angeles  33.805420 -118.225650   \n",
       "2  90810CRSNT2365E     los angeles  33.805420 -118.225650   \n",
       "4  90280GRDNF5611E     los angeles  33.931251 -118.172539   \n",
       "5  94566TLTYV3786V         alameda  37.674740 -121.862060   \n",
       "\n",
       "   CLEAR_AIR_ACT_CHEMICAL  PRIMARY_NAICS  METAL_CATEGORY  \\\n",
       "0                       0         325193               0   \n",
       "1                       0         424710               0   \n",
       "2                       1         424710               0   \n",
       "4                       0         311513               0   \n",
       "5                       1         327390               1   \n",
       "\n",
       "   INDUSTRY_SECTOR_CODE CLASSIFICATION                CHEMICAL     ...      \\\n",
       "0                   325            TRI       NITRATE COMPOUNDS     ...       \n",
       "1                  4247            TRI  1,2,4-TRIMETHYLBENZENE     ...       \n",
       "2                  4247            TRI            PHENANTHRENE     ...       \n",
       "4                   311            TRI             NITRIC ACID     ...       \n",
       "5                   327            PBT                    LEAD     ...       \n",
       "\n",
       "   5.3_WATER  ON-SITE_RELEASE_TOTAL  OFF-SITE_RELEASE_TOTAL  \\\n",
       "0       0.00                 0.0000                     0.0   \n",
       "1       8.08               207.4800                     0.0   \n",
       "2       0.00                 0.4610                     0.0   \n",
       "4       0.00                 0.0000                     0.0   \n",
       "5       0.00                 0.0016                     0.0   \n",
       "\n",
       "   OFF-SITE_RECYCLED_TOTAL  OFF-SITE_TREATED_TOTAL  OFF-SITE_RECOVERY_TOTAL  \\\n",
       "0                     0.00                16457.00                      0.0   \n",
       "1                    10.48                    0.21                      0.0   \n",
       "2                     0.00                    0.00                      0.0   \n",
       "4                     0.00                    0.00                      0.0   \n",
       "5                     0.00                    0.00                      0.0   \n",
       "\n",
       "   PROD._WASTE_(8.1_THRU_8.7)  TOTAL_RELEASES          County        2014  \n",
       "0                  16457.0000          0.0000  san bernardino  138.166667  \n",
       "1                    218.1600        207.4800     los angeles  138.250000  \n",
       "2                      0.4610          0.4610     los angeles  138.250000  \n",
       "4                  88749.0000          0.0000     los angeles  138.250000  \n",
       "5                      0.0016          0.0016         alameda   79.750000  \n",
       "\n",
       "[5 rows x 24 columns]"
      ]
     },
     "execution_count": 368,
     "metadata": {},
     "output_type": "execute_result"
    }
   ],
   "source": [
    "TRI_14_sm.head()"
   ]
  },
  {
   "cell_type": "code",
   "execution_count": 369,
   "metadata": {
    "collapsed": false
   },
   "outputs": [
    {
     "data": {
      "text/html": [
       "<div style=\"width:100%;\"><div style=\"position:relative;width:100%;height:0;padding-bottom:60%;\"><iframe src=\"data:text/html;base64,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\" style=\"position:absolute;width:100%;height:100%;left:0;top:0;\"></iframe></div></div>"
      ],
      "text/plain": [
       "<folium.folium.Map at 0x11a4c2b10>"
      ]
     },
     "execution_count": 369,
     "metadata": {},
     "output_type": "execute_result"
    }
   ],
   "source": [
    "map_osm = folium.Map(location=[33.813230, -118.242980],\n",
    "                    zoom_start=6)\n",
    "map_osm"
   ]
  },
  {
   "cell_type": "code",
   "execution_count": 370,
   "metadata": {
    "collapsed": false
   },
   "outputs": [
    {
     "data": {
      "text/html": [
       "<div style=\"width:100%;\"><div style=\"position:relative;width:100%;height:0;padding-bottom:60%;\"><iframe src=\"data:text/html;base64,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\" style=\"position:absolute;width:100%;height:100%;left:0;top:0;\"></iframe></div></div>"
      ],
      "text/plain": [
       "<folium.folium.Map at 0x11a356290>"
      ]
     },
     "execution_count": 370,
     "metadata": {},
     "output_type": "execute_result"
    }
   ],
   "source": [
    "map_2 = folium.Map(location=[45.5236, -122.6750],\n",
    "                   tiles= 'Stamen Terrain',\n",
    "                   zoom_start=13)\n",
    "folium.Marker([45.5244, -122.6699],\n",
    "              popup='The Waterfront'\n",
    "             ).add_to(map_2)\n",
    "folium.CircleMarker([45.5215, -122.6261],\n",
    "                    radius=500,\n",
    "                    popup='Laurelhurst Park',\n",
    "                    color='#3186cc',\n",
    "                    fill_color='#3186cc',\n",
    "                   ).add_to(map_2)\n",
    "map_2"
   ]
  },
  {
   "cell_type": "code",
   "execution_count": null,
   "metadata": {
    "collapsed": true
   },
   "outputs": [],
   "source": []
  },
  {
   "cell_type": "code",
   "execution_count": null,
   "metadata": {
    "collapsed": true
   },
   "outputs": [],
   "source": []
  },
  {
   "cell_type": "code",
   "execution_count": null,
   "metadata": {
    "collapsed": true
   },
   "outputs": [],
   "source": []
  },
  {
   "cell_type": "code",
   "execution_count": null,
   "metadata": {
    "collapsed": true
   },
   "outputs": [],
   "source": []
  },
  {
   "cell_type": "code",
   "execution_count": null,
   "metadata": {
    "collapsed": true
   },
   "outputs": [],
   "source": []
  },
  {
   "cell_type": "code",
   "execution_count": null,
   "metadata": {
    "collapsed": true
   },
   "outputs": [],
   "source": []
  },
  {
   "cell_type": "code",
   "execution_count": 403,
   "metadata": {
    "collapsed": true
   },
   "outputs": [],
   "source": [
    "lr_outputs = LogisticRegression(penalty='l1')"
   ]
  },
  {
   "cell_type": "code",
   "execution_count": 419,
   "metadata": {
    "collapsed": false,
    "scrolled": true
   },
   "outputs": [
    {
     "name": "stderr",
     "output_type": "stream",
     "text": [
      "/anaconda/lib/python2.7/site-packages/ipykernel/__main__.py:3: SettingWithCopyWarning: \n",
      "A value is trying to be set on a copy of a slice from a DataFrame.\n",
      "Try using .loc[row_indexer,col_indexer] = value instead\n",
      "\n",
      "See the caveats in the documentation: http://pandas.pydata.org/pandas-docs/stable/indexing.html#indexing-view-versus-copy\n",
      "  app.launch_new_instance()\n"
     ]
    }
   ],
   "source": [
    "# X_outputs = TRI_14_sm[[ u'CARCINOGEN', 'CLEAR_AIR_ACT_CHEMICAL', 'CLASSIFICATION', 'METAL_CATEGORY', 'INDUSTRY_SECTOR_CODE']]\n",
    "X_outputs = TRI_14_sm[[  'PRIMARY_NAICS']]\n",
    "X_outputs[ 'PRIMARY_NAICS'] = X_outputs[ 'PRIMARY_NAICS'].astype('category')\n",
    "X_outputs = pd.get_dummies(X_outputs)"
   ]
  },
  {
   "cell_type": "code",
   "execution_count": 420,
   "metadata": {
    "collapsed": false
   },
   "outputs": [
    {
     "data": {
      "text/html": [
       "<div>\n",
       "<table border=\"1\" class=\"dataframe\">\n",
       "  <thead>\n",
       "    <tr style=\"text-align: right;\">\n",
       "      <th></th>\n",
       "      <th>PRIMARY_NAICS_112120</th>\n",
       "      <th>PRIMARY_NAICS_212221</th>\n",
       "      <th>PRIMARY_NAICS_212299</th>\n",
       "      <th>PRIMARY_NAICS_212319</th>\n",
       "      <th>PRIMARY_NAICS_221112</th>\n",
       "      <th>PRIMARY_NAICS_311111</th>\n",
       "      <th>PRIMARY_NAICS_311119</th>\n",
       "      <th>PRIMARY_NAICS_311212</th>\n",
       "      <th>PRIMARY_NAICS_311221</th>\n",
       "      <th>PRIMARY_NAICS_311224</th>\n",
       "      <th>...</th>\n",
       "      <th>PRIMARY_NAICS_561910</th>\n",
       "      <th>PRIMARY_NAICS_562112</th>\n",
       "      <th>PRIMARY_NAICS_562211</th>\n",
       "      <th>PRIMARY_NAICS_562213</th>\n",
       "      <th>PRIMARY_NAICS_611513</th>\n",
       "      <th>PRIMARY_NAICS_922120</th>\n",
       "      <th>PRIMARY_NAICS_922140</th>\n",
       "      <th>PRIMARY_NAICS_924120</th>\n",
       "      <th>PRIMARY_NAICS_927110</th>\n",
       "      <th>PRIMARY_NAICS_928110</th>\n",
       "    </tr>\n",
       "  </thead>\n",
       "  <tbody>\n",
       "    <tr>\n",
       "      <th>0</th>\n",
       "      <td>0.0</td>\n",
       "      <td>0.0</td>\n",
       "      <td>0.0</td>\n",
       "      <td>0.0</td>\n",
       "      <td>0.0</td>\n",
       "      <td>0.0</td>\n",
       "      <td>0.0</td>\n",
       "      <td>0.0</td>\n",
       "      <td>0.0</td>\n",
       "      <td>0.0</td>\n",
       "      <td>...</td>\n",
       "      <td>0.0</td>\n",
       "      <td>0.0</td>\n",
       "      <td>0.0</td>\n",
       "      <td>0.0</td>\n",
       "      <td>0.0</td>\n",
       "      <td>0.0</td>\n",
       "      <td>0.0</td>\n",
       "      <td>0.0</td>\n",
       "      <td>0.0</td>\n",
       "      <td>0.0</td>\n",
       "    </tr>\n",
       "    <tr>\n",
       "      <th>1</th>\n",
       "      <td>0.0</td>\n",
       "      <td>0.0</td>\n",
       "      <td>0.0</td>\n",
       "      <td>0.0</td>\n",
       "      <td>0.0</td>\n",
       "      <td>0.0</td>\n",
       "      <td>0.0</td>\n",
       "      <td>0.0</td>\n",
       "      <td>0.0</td>\n",
       "      <td>0.0</td>\n",
       "      <td>...</td>\n",
       "      <td>0.0</td>\n",
       "      <td>0.0</td>\n",
       "      <td>0.0</td>\n",
       "      <td>0.0</td>\n",
       "      <td>0.0</td>\n",
       "      <td>0.0</td>\n",
       "      <td>0.0</td>\n",
       "      <td>0.0</td>\n",
       "      <td>0.0</td>\n",
       "      <td>0.0</td>\n",
       "    </tr>\n",
       "  </tbody>\n",
       "</table>\n",
       "<p>2 rows × 229 columns</p>\n",
       "</div>"
      ],
      "text/plain": [
       "   PRIMARY_NAICS_112120  PRIMARY_NAICS_212221  PRIMARY_NAICS_212299  \\\n",
       "0                   0.0                   0.0                   0.0   \n",
       "1                   0.0                   0.0                   0.0   \n",
       "\n",
       "   PRIMARY_NAICS_212319  PRIMARY_NAICS_221112  PRIMARY_NAICS_311111  \\\n",
       "0                   0.0                   0.0                   0.0   \n",
       "1                   0.0                   0.0                   0.0   \n",
       "\n",
       "   PRIMARY_NAICS_311119  PRIMARY_NAICS_311212  PRIMARY_NAICS_311221  \\\n",
       "0                   0.0                   0.0                   0.0   \n",
       "1                   0.0                   0.0                   0.0   \n",
       "\n",
       "   PRIMARY_NAICS_311224          ...           PRIMARY_NAICS_561910  \\\n",
       "0                   0.0          ...                            0.0   \n",
       "1                   0.0          ...                            0.0   \n",
       "\n",
       "   PRIMARY_NAICS_562112  PRIMARY_NAICS_562211  PRIMARY_NAICS_562213  \\\n",
       "0                   0.0                   0.0                   0.0   \n",
       "1                   0.0                   0.0                   0.0   \n",
       "\n",
       "   PRIMARY_NAICS_611513  PRIMARY_NAICS_922120  PRIMARY_NAICS_922140  \\\n",
       "0                   0.0                   0.0                   0.0   \n",
       "1                   0.0                   0.0                   0.0   \n",
       "\n",
       "   PRIMARY_NAICS_924120  PRIMARY_NAICS_927110  PRIMARY_NAICS_928110  \n",
       "0                   0.0                   0.0                   0.0  \n",
       "1                   0.0                   0.0                   0.0  \n",
       "\n",
       "[2 rows x 229 columns]"
      ]
     },
     "execution_count": 420,
     "metadata": {},
     "output_type": "execute_result"
    }
   ],
   "source": [
    "X_outputs.head(2)"
   ]
  },
  {
   "cell_type": "code",
   "execution_count": 421,
   "metadata": {
    "collapsed": true
   },
   "outputs": [],
   "source": [
    "y = TRI_14_sm[2014].apply(lambda x:  1 if x>100  else  0)"
   ]
  },
  {
   "cell_type": "code",
   "execution_count": 407,
   "metadata": {
    "collapsed": false
   },
   "outputs": [
    {
     "data": {
      "text/plain": [
       "array([ 0.71979434,  0.69151671,  0.73521851,  0.70179949,  0.68380463,\n",
       "        0.6966581 ,  0.71208226,  0.69845361,  0.66149871,  0.7751938 ])"
      ]
     },
     "execution_count": 407,
     "metadata": {},
     "output_type": "execute_result"
    }
   ],
   "source": [
    "cross_val_score(lr_outputs,X_outputs, y, cv =10 )"
   ]
  },
  {
   "cell_type": "code",
   "execution_count": null,
   "metadata": {
    "collapsed": true
   },
   "outputs": [],
   "source": []
  },
  {
   "cell_type": "markdown",
   "metadata": {},
   "source": [
    "HERE'S A VERSION with 200 columns...."
   ]
  },
  {
   "cell_type": "code",
   "execution_count": 102,
   "metadata": {
    "collapsed": false
   },
   "outputs": [],
   "source": []
  },
  {
   "cell_type": "code",
   "execution_count": 110,
   "metadata": {
    "collapsed": false
   },
   "outputs": [],
   "source": [
    "X_big = pd.get_dummies(TRI_14_sm[[ u'CLASSIFICATION', u'CHEMICAL',\n",
    "       u'CARCINOGEN', u'UNIT_OF_MEASURE','CLEAR_AIR_ACT_CHEMICAL','5.1_FUGITIVE_AIR','5.2_STACK_AIR','5.3_WATER', u'ON-SITE_RELEASE_TOTAL',\n",
    "       u'OFF-SITE_RELEASE_TOTAL', u'OFF-SITE_RECYCLED_TOTAL',\n",
    "       u'OFF-SITE_TREATED_TOTAL', u'OFF-SITE_RECOVERY_TOTAL', u'PROD_WASTE_', u'TOTAL_RELEASES']])"
   ]
  },
  {
   "cell_type": "code",
   "execution_count": 111,
   "metadata": {
    "collapsed": false
   },
   "outputs": [
    {
     "data": {
      "text/plain": [
       "(3885, 199)"
      ]
     },
     "execution_count": 111,
     "metadata": {},
     "output_type": "execute_result"
    }
   ],
   "source": [
    "X_big.shape\n"
   ]
  },
  {
   "cell_type": "code",
   "execution_count": 105,
   "metadata": {
    "collapsed": false
   },
   "outputs": [],
   "source": []
  },
  {
   "cell_type": "code",
   "execution_count": null,
   "metadata": {
    "collapsed": true
   },
   "outputs": [],
   "source": [
    "y = TRI_14_sm[2014].apply(lambda x:  1 if x>100  else  0)"
   ]
  },
  {
   "cell_type": "code",
   "execution_count": 83,
   "metadata": {
    "collapsed": true
   },
   "outputs": [],
   "source": [
    "X_train, X_test, y_train, y_test = train_test_split(X_big, y, test_size=0.33, random_state=42)"
   ]
  },
  {
   "cell_type": "code",
   "execution_count": 34,
   "metadata": {
    "collapsed": true
   },
   "outputs": [],
   "source": []
  },
  {
   "cell_type": "code",
   "execution_count": 40,
   "metadata": {
    "collapsed": true
   },
   "outputs": [],
   "source": []
  },
  {
   "cell_type": "code",
   "execution_count": 100,
   "metadata": {
    "collapsed": false,
    "scrolled": false
   },
   "outputs": [
    {
     "data": {
      "text/plain": [
       "LogisticRegression(C=1.0, class_weight=None, dual=False, fit_intercept=True,\n",
       "          intercept_scaling=1, max_iter=100, multi_class='ovr', n_jobs=1,\n",
       "          penalty='l1', random_state=None, solver='liblinear', tol=0.0001,\n",
       "          verbose=0, warm_start=False)"
      ]
     },
     "execution_count": 100,
     "metadata": {},
     "output_type": "execute_result"
    }
   ],
   "source": [
    "lr = LogisticRegression(penalty='l1')\n",
    "\n",
    "lr.fit(X_train, y_train)\n"
   ]
  },
  {
   "cell_type": "code",
   "execution_count": 99,
   "metadata": {
    "collapsed": false
   },
   "outputs": [
    {
     "data": {
      "text/plain": [
       "[('CHEMICAL_PERACETIC ACID', 1.4579634536016732),\n",
       " ('CHEMICAL_ZINC (FUME OR DUST)', 0.9928432791038434),\n",
       " ('CHEMICAL_DIMETHYL PHTHALATE', 0.83963004722315082),\n",
       " ('CHEMICAL_PHTHALIC ANHYDRIDE', 0.83856864171775602),\n",
       " ('CHEMICAL_BENZENE', 0.55320876087370208),\n",
       " ('CHEMICAL_ETHYLBENZENE', 0.5373852915987144),\n",
       " ('CHEMICAL_N-BUTYL ALCOHOL', 0.48576234900030718),\n",
       " ('CHEMICAL_NAPHTHALENE', 0.46159050925803524),\n",
       " ('CHEMICAL_XYLENE (MIXED ISOMERS)', 0.41582458197359506),\n",
       " ('CHEMICAL_METHYL ISOBUTYL KETONE', 0.3384587980799007),\n",
       " ('CHEMICAL_MALEIC ANHYDRIDE', 0.32791670437603115),\n",
       " ('CHEMICAL_TOLUENE', 0.31846072224388761),\n",
       " ('CHEMICAL_1,2,4-TRIMETHYLBENZENE', 0.31214182584019734),\n",
       " ('CHEMICAL_CYCLOHEXANE', 0.26828239237730345),\n",
       " ('CHEMICAL_MERCURY COMPOUNDS', 0.24507142227869622),\n",
       " ('CLASSIFICATION_TRI', 0.22213817708232955),\n",
       " ('CHEMICAL_PHENANTHRENE', 0.1451475215487345),\n",
       " ('CHEMICAL_CUMENE', 0.14335835089477739),\n",
       " ('CLEAR_AIR_ACT_CHEMICAL', 0.13661995489099532),\n",
       " ('UNIT_OF_MEASURE', 0.10723097059683259),\n",
       " ('CHEMICAL_ZINC COMPOUNDS', 0.093825174863187796),\n",
       " ('CHEMICAL_COBALT', 0.084461676764305188),\n",
       " ('CHEMICAL_BENZO(G,H,I)PERYLENE', 0.070022240261333718),\n",
       " ('CHEMICAL_N-HEXANE', 0.06325665079378659),\n",
       " ('CHEMICAL_CERTAIN GLYCOL ETHERS', 0.061032406004198958),\n",
       " ('CHEMICAL_POLYCYCLIC AROMATIC COMPOUNDS', 0.030856094116482161),\n",
       " ('CHEMICAL_PROPYLENE OXIDE', 0.024513254785678569),\n",
       " ('CHEMICAL_MANGANESE COMPOUNDS', 0.019979946937793237),\n",
       " ('CHEMICAL_NICKEL COMPOUNDS', 0.013254820498718258),\n",
       " ('ON-SITE_RELEASE_TOTAL', 3.6477160752895658e-05)]"
      ]
     },
     "execution_count": 99,
     "metadata": {},
     "output_type": "execute_result"
    }
   ],
   "source": [
    "zipped = zip(X_train.columns, lr.coef_[0] )\n",
    "\n",
    "\n",
    "short_zipped = sorted([i for i in zipped], key=lambda x: x[1], reverse = True)[:30]\n",
    "short_zipped"
   ]
  },
  {
   "cell_type": "code",
   "execution_count": 101,
   "metadata": {
    "collapsed": false
   },
   "outputs": [
    {
     "data": {
      "text/plain": [
       "array([ 0.6529563 ,  0.64138817,  0.65765766,  0.6507732 ,  0.64690722])"
      ]
     },
     "execution_count": 101,
     "metadata": {},
     "output_type": "execute_result"
    }
   ],
   "source": [
    "cross_val_score(lr,X_big, y, cv =5 )"
   ]
  },
  {
   "cell_type": "markdown",
   "metadata": {},
   "source": [
    " "
   ]
  },
  {
   "cell_type": "markdown",
   "metadata": {},
   "source": [
    "These are all scoring in the same range, let's use a NON-PARAMETRIC model instead to see if we can do a better job. "
   ]
  },
  {
   "cell_type": "markdown",
   "metadata": {},
   "source": [
    " "
   ]
  },
  {
   "cell_type": "code",
   "execution_count": 301,
   "metadata": {
    "collapsed": false
   },
   "outputs": [],
   "source": [
    "clf = RandomForestClassifier()\n"
   ]
  },
  {
   "cell_type": "code",
   "execution_count": null,
   "metadata": {
    "collapsed": false
   },
   "outputs": [],
   "source": []
  },
  {
   "cell_type": "code",
   "execution_count": null,
   "metadata": {
    "collapsed": false
   },
   "outputs": [],
   "source": []
  },
  {
   "cell_type": "code",
   "execution_count": null,
   "metadata": {
    "collapsed": false,
    "scrolled": true
   },
   "outputs": [],
   "source": []
  },
  {
   "cell_type": "code",
   "execution_count": 300,
   "metadata": {
    "collapsed": false
   },
   "outputs": [],
   "source": [
    "# dir(rfs_gs.best_estimator_ )\n",
    "# rfs_gs.best_estimator_.feature_importances_"
   ]
  },
  {
   "cell_type": "code",
   "execution_count": null,
   "metadata": {
    "collapsed": false
   },
   "outputs": [],
   "source": []
  },
  {
   "cell_type": "code",
   "execution_count": 422,
   "metadata": {
    "collapsed": false
   },
   "outputs": [
    {
     "name": "stdout",
     "output_type": "stream",
     "text": [
      "Fitting 5 folds for each of 16 candidates, totalling 80 fits\n"
     ]
    },
    {
     "name": "stderr",
     "output_type": "stream",
     "text": [
      "[Parallel(n_jobs=1)]: Done  49 tasks       | elapsed:  2.4min\n",
      "[Parallel(n_jobs=1)]: Done  80 out of  80 | elapsed:  4.1min finished\n"
     ]
    },
    {
     "data": {
      "text/plain": [
       "GridSearchCV(cv=5, error_score='raise',\n",
       "       estimator=RandomForestClassifier(bootstrap=True, class_weight=None, criterion='gini',\n",
       "            max_depth=None, max_features='auto', max_leaf_nodes=None,\n",
       "            min_samples_leaf=1, min_samples_split=2,\n",
       "            min_weight_fraction_leaf=0.0, n_estimators=10, n_jobs=1,\n",
       "            oob_score=False, random_state=None, verbose=0,\n",
       "            warm_start=False),\n",
       "       fit_params={}, iid=True, n_jobs=1,\n",
       "       param_grid={'n_estimators': [250, 350], 'min_samples_split': [2, 6, 8, 12], 'max_features': ['log2', 'auto']},\n",
       "       pre_dispatch='2*n_jobs', refit=True, scoring=None, verbose=1)"
      ]
     },
     "execution_count": 422,
     "metadata": {},
     "output_type": "execute_result"
    }
   ],
   "source": [
    "rfc_params = {\n",
    "    'n_estimators':[250, 350], \n",
    "#     'criterion':'gini', \n",
    "#     'max_depth': None,\n",
    "    'min_samples_split': [2,6,8,12],\n",
    "#     'min_samples_leaf':1, 'min_weight_fraction_leaf':0.0, \n",
    "     'max_features':['log2', 'auto'], \n",
    "#     'max_leaf_nodes':None, \n",
    "#     'min_impurity_split':1e-07, 'bootstrap':True, 'oob_score':False, \n",
    "#     'n_jobs':1,  'class_weight': None\n",
    "    \n",
    "}\n",
    "\n",
    "rfs_gs = GridSearchCV(clf, rfc_params, cv=5, verbose=1)\n",
    "rfs_gs.fit(X_outputs, y)"
   ]
  },
  {
   "cell_type": "code",
   "execution_count": 423,
   "metadata": {
    "collapsed": false
   },
   "outputs": [
    {
     "data": {
      "text/plain": [
       "0.71531531531531534"
      ]
     },
     "execution_count": 423,
     "metadata": {},
     "output_type": "execute_result"
    }
   ],
   "source": [
    "rfs_gs.best_score_"
   ]
  },
  {
   "cell_type": "code",
   "execution_count": 424,
   "metadata": {
    "collapsed": false
   },
   "outputs": [
    {
     "name": "stdout",
     "output_type": "stream",
     "text": [
      "{'max_features': 'log2', 'min_samples_split': 2, 'n_estimators': 350}\n"
     ]
    }
   ],
   "source": [
    "print rfs_gs.best_params_"
   ]
  },
  {
   "cell_type": "code",
   "execution_count": 425,
   "metadata": {
    "collapsed": false
   },
   "outputs": [],
   "source": [
    "# rfs_gs.best_estimator_.feature_importances_"
   ]
  },
  {
   "cell_type": "code",
   "execution_count": 426,
   "metadata": {
    "collapsed": false
   },
   "outputs": [
    {
     "data": {
      "text/plain": [
       "Index([u'PRIMARY_NAICS_112120', u'PRIMARY_NAICS_212221',\n",
       "       u'PRIMARY_NAICS_212299', u'PRIMARY_NAICS_212319',\n",
       "       u'PRIMARY_NAICS_221112', u'PRIMARY_NAICS_311111',\n",
       "       u'PRIMARY_NAICS_311119', u'PRIMARY_NAICS_311212',\n",
       "       u'PRIMARY_NAICS_311221', u'PRIMARY_NAICS_311224',\n",
       "       ...\n",
       "       u'PRIMARY_NAICS_561910', u'PRIMARY_NAICS_562112',\n",
       "       u'PRIMARY_NAICS_562211', u'PRIMARY_NAICS_562213',\n",
       "       u'PRIMARY_NAICS_611513', u'PRIMARY_NAICS_922120',\n",
       "       u'PRIMARY_NAICS_922140', u'PRIMARY_NAICS_924120',\n",
       "       u'PRIMARY_NAICS_927110', u'PRIMARY_NAICS_928110'],\n",
       "      dtype='object', length=229)"
      ]
     },
     "execution_count": 426,
     "metadata": {},
     "output_type": "execute_result"
    }
   ],
   "source": [
    "X_outputs.columns"
   ]
  },
  {
   "cell_type": "code",
   "execution_count": 427,
   "metadata": {
    "collapsed": false
   },
   "outputs": [
    {
     "data": {
      "text/plain": [
       "[(0.08312018812566406, 'PRIMARY_NAICS_541712'),\n",
       " (0.059143780561329018, 'PRIMARY_NAICS_334412'),\n",
       " (0.043727883144056442, 'PRIMARY_NAICS_334413'),\n",
       " (0.03122747910411626, 'PRIMARY_NAICS_334419'),\n",
       " (0.026835835424301711, 'PRIMARY_NAICS_424710'),\n",
       " (0.022612727990416134, 'PRIMARY_NAICS_332911'),\n",
       " (0.022110045289997431, 'PRIMARY_NAICS_321113'),\n",
       " (0.020555001223820278, 'PRIMARY_NAICS_334418'),\n",
       " (0.016616601734953561, 'PRIMARY_NAICS_336111'),\n",
       " (0.016325814026026217, 'PRIMARY_NAICS_332119')]"
      ]
     },
     "execution_count": 427,
     "metadata": {},
     "output_type": "execute_result"
    }
   ],
   "source": [
    "\n",
    "\n",
    "zip3 = zip(rfs_gs.best_estimator_.feature_importances_, X_outputs.columns)\n",
    "\n",
    "short_zip3 = sorted([i for i in zip3], key=lambda x: x[0], reverse = True)\n",
    "short_zip3[:10]"
   ]
  },
  {
   "cell_type": "code",
   "execution_count": null,
   "metadata": {
    "collapsed": true
   },
   "outputs": [],
   "source": []
  },
  {
   "cell_type": "code",
   "execution_count": null,
   "metadata": {
    "collapsed": true
   },
   "outputs": [],
   "source": []
  },
  {
   "cell_type": "code",
   "execution_count": null,
   "metadata": {
    "collapsed": true
   },
   "outputs": [],
   "source": []
  },
  {
   "cell_type": "code",
   "execution_count": 302,
   "metadata": {
    "collapsed": true
   },
   "outputs": [],
   "source": [
    "X_chem_sect = pd.get_dummies(TRI_14_sm[[ 'INDUSTRY_SECTOR_CODE', u'CHEMICAL']])"
   ]
  },
  {
   "cell_type": "code",
   "execution_count": 304,
   "metadata": {
    "collapsed": false
   },
   "outputs": [
    {
     "data": {
      "text/html": [
       "<div>\n",
       "<table border=\"1\" class=\"dataframe\">\n",
       "  <thead>\n",
       "    <tr style=\"text-align: right;\">\n",
       "      <th></th>\n",
       "      <th>INDUSTRY_SECTOR_CODE</th>\n",
       "      <th>CHEMICAL_1,1,2-TRICHLOROETHANE</th>\n",
       "      <th>CHEMICAL_1,2,4-TRIMETHYLBENZENE</th>\n",
       "      <th>CHEMICAL_1,2-BUTYLENE OXIDE</th>\n",
       "      <th>CHEMICAL_1,2-DIBROMOETHANE</th>\n",
       "      <th>CHEMICAL_1,2-DICHLOROETHYLENE</th>\n",
       "      <th>CHEMICAL_1,3-BUTADIENE</th>\n",
       "      <th>CHEMICAL_1,3-DICHLOROPROPYLENE</th>\n",
       "      <th>CHEMICAL_1,3-PHENYLENEDIAMINE</th>\n",
       "      <th>CHEMICAL_1,4-DIOXANE</th>\n",
       "      <th>...</th>\n",
       "      <th>CHEMICAL_TOXAPHENE</th>\n",
       "      <th>CHEMICAL_TRANS-1,3-DICHLOROPROPENE</th>\n",
       "      <th>CHEMICAL_TRICHLOROETHYLENE</th>\n",
       "      <th>CHEMICAL_TRIETHYLAMINE</th>\n",
       "      <th>CHEMICAL_VANADIUM (EXCEPT WHEN CONTAINED IN AN ALLOY)</th>\n",
       "      <th>CHEMICAL_VANADIUM COMPOUNDS</th>\n",
       "      <th>CHEMICAL_VINYL ACETATE</th>\n",
       "      <th>CHEMICAL_XYLENE (MIXED ISOMERS)</th>\n",
       "      <th>CHEMICAL_ZINC (FUME OR DUST)</th>\n",
       "      <th>CHEMICAL_ZINC COMPOUNDS</th>\n",
       "    </tr>\n",
       "  </thead>\n",
       "  <tbody>\n",
       "    <tr>\n",
       "      <th>0</th>\n",
       "      <td>325</td>\n",
       "      <td>0.0</td>\n",
       "      <td>0.0</td>\n",
       "      <td>0.0</td>\n",
       "      <td>0.0</td>\n",
       "      <td>0.0</td>\n",
       "      <td>0.0</td>\n",
       "      <td>0.0</td>\n",
       "      <td>0.0</td>\n",
       "      <td>0.0</td>\n",
       "      <td>...</td>\n",
       "      <td>0.0</td>\n",
       "      <td>0.0</td>\n",
       "      <td>0.0</td>\n",
       "      <td>0.0</td>\n",
       "      <td>0.0</td>\n",
       "      <td>0.0</td>\n",
       "      <td>0.0</td>\n",
       "      <td>0.0</td>\n",
       "      <td>0.0</td>\n",
       "      <td>0.0</td>\n",
       "    </tr>\n",
       "    <tr>\n",
       "      <th>1</th>\n",
       "      <td>4247</td>\n",
       "      <td>0.0</td>\n",
       "      <td>1.0</td>\n",
       "      <td>0.0</td>\n",
       "      <td>0.0</td>\n",
       "      <td>0.0</td>\n",
       "      <td>0.0</td>\n",
       "      <td>0.0</td>\n",
       "      <td>0.0</td>\n",
       "      <td>0.0</td>\n",
       "      <td>...</td>\n",
       "      <td>0.0</td>\n",
       "      <td>0.0</td>\n",
       "      <td>0.0</td>\n",
       "      <td>0.0</td>\n",
       "      <td>0.0</td>\n",
       "      <td>0.0</td>\n",
       "      <td>0.0</td>\n",
       "      <td>0.0</td>\n",
       "      <td>0.0</td>\n",
       "      <td>0.0</td>\n",
       "    </tr>\n",
       "    <tr>\n",
       "      <th>2</th>\n",
       "      <td>4247</td>\n",
       "      <td>0.0</td>\n",
       "      <td>0.0</td>\n",
       "      <td>0.0</td>\n",
       "      <td>0.0</td>\n",
       "      <td>0.0</td>\n",
       "      <td>0.0</td>\n",
       "      <td>0.0</td>\n",
       "      <td>0.0</td>\n",
       "      <td>0.0</td>\n",
       "      <td>...</td>\n",
       "      <td>0.0</td>\n",
       "      <td>0.0</td>\n",
       "      <td>0.0</td>\n",
       "      <td>0.0</td>\n",
       "      <td>0.0</td>\n",
       "      <td>0.0</td>\n",
       "      <td>0.0</td>\n",
       "      <td>0.0</td>\n",
       "      <td>0.0</td>\n",
       "      <td>0.0</td>\n",
       "    </tr>\n",
       "  </tbody>\n",
       "</table>\n",
       "<p>3 rows × 184 columns</p>\n",
       "</div>"
      ],
      "text/plain": [
       "   INDUSTRY_SECTOR_CODE  CHEMICAL_1,1,2-TRICHLOROETHANE  \\\n",
       "0                   325                             0.0   \n",
       "1                  4247                             0.0   \n",
       "2                  4247                             0.0   \n",
       "\n",
       "   CHEMICAL_1,2,4-TRIMETHYLBENZENE  CHEMICAL_1,2-BUTYLENE OXIDE  \\\n",
       "0                              0.0                          0.0   \n",
       "1                              1.0                          0.0   \n",
       "2                              0.0                          0.0   \n",
       "\n",
       "   CHEMICAL_1,2-DIBROMOETHANE  CHEMICAL_1,2-DICHLOROETHYLENE  \\\n",
       "0                         0.0                            0.0   \n",
       "1                         0.0                            0.0   \n",
       "2                         0.0                            0.0   \n",
       "\n",
       "   CHEMICAL_1,3-BUTADIENE  CHEMICAL_1,3-DICHLOROPROPYLENE  \\\n",
       "0                     0.0                             0.0   \n",
       "1                     0.0                             0.0   \n",
       "2                     0.0                             0.0   \n",
       "\n",
       "   CHEMICAL_1,3-PHENYLENEDIAMINE  CHEMICAL_1,4-DIOXANE  \\\n",
       "0                            0.0                   0.0   \n",
       "1                            0.0                   0.0   \n",
       "2                            0.0                   0.0   \n",
       "\n",
       "            ...             CHEMICAL_TOXAPHENE  \\\n",
       "0           ...                            0.0   \n",
       "1           ...                            0.0   \n",
       "2           ...                            0.0   \n",
       "\n",
       "   CHEMICAL_TRANS-1,3-DICHLOROPROPENE  CHEMICAL_TRICHLOROETHYLENE  \\\n",
       "0                                 0.0                         0.0   \n",
       "1                                 0.0                         0.0   \n",
       "2                                 0.0                         0.0   \n",
       "\n",
       "   CHEMICAL_TRIETHYLAMINE  \\\n",
       "0                     0.0   \n",
       "1                     0.0   \n",
       "2                     0.0   \n",
       "\n",
       "   CHEMICAL_VANADIUM (EXCEPT WHEN CONTAINED IN AN ALLOY)  \\\n",
       "0                                                0.0       \n",
       "1                                                0.0       \n",
       "2                                                0.0       \n",
       "\n",
       "   CHEMICAL_VANADIUM COMPOUNDS  CHEMICAL_VINYL ACETATE  \\\n",
       "0                          0.0                     0.0   \n",
       "1                          0.0                     0.0   \n",
       "2                          0.0                     0.0   \n",
       "\n",
       "   CHEMICAL_XYLENE (MIXED ISOMERS)  CHEMICAL_ZINC (FUME OR DUST)  \\\n",
       "0                              0.0                           0.0   \n",
       "1                              0.0                           0.0   \n",
       "2                              0.0                           0.0   \n",
       "\n",
       "   CHEMICAL_ZINC COMPOUNDS  \n",
       "0                      0.0  \n",
       "1                      0.0  \n",
       "2                      0.0  \n",
       "\n",
       "[3 rows x 184 columns]"
      ]
     },
     "execution_count": 304,
     "metadata": {},
     "output_type": "execute_result"
    }
   ],
   "source": [
    "X_chem_sect.head(3)"
   ]
  },
  {
   "cell_type": "code",
   "execution_count": 305,
   "metadata": {
    "collapsed": false
   },
   "outputs": [
    {
     "name": "stdout",
     "output_type": "stream",
     "text": [
      "Fitting 5 folds for each of 16 candidates, totalling 80 fits\n"
     ]
    },
    {
     "name": "stderr",
     "output_type": "stream",
     "text": [
      "[Parallel(n_jobs=1)]: Done  49 tasks       | elapsed:  1.3min\n",
      "[Parallel(n_jobs=1)]: Done  80 out of  80 | elapsed:  2.2min finished\n"
     ]
    },
    {
     "data": {
      "text/plain": [
       "GridSearchCV(cv=5, error_score='raise',\n",
       "       estimator=RandomForestClassifier(bootstrap=True, class_weight=None, criterion='gini',\n",
       "            max_depth=None, max_features='auto', max_leaf_nodes=None,\n",
       "            min_samples_leaf=1, min_samples_split=2,\n",
       "            min_weight_fraction_leaf=0.0, n_estimators=10, n_jobs=1,\n",
       "            oob_score=False, random_state=None, verbose=0,\n",
       "            warm_start=False),\n",
       "       fit_params={}, iid=True, n_jobs=1,\n",
       "       param_grid={'n_estimators': [100, 250], 'min_samples_split': [2, 6, 8, 12], 'max_features': ['log2', 'auto']},\n",
       "       pre_dispatch='2*n_jobs', refit=True, scoring=None, verbose=1)"
      ]
     },
     "execution_count": 305,
     "metadata": {},
     "output_type": "execute_result"
    }
   ],
   "source": [
    "rfc_params = {\n",
    "    'n_estimators':[100,250], \n",
    "#     'criterion':'gini', \n",
    "#     'max_depth': None,\n",
    "    'min_samples_split': [2,6,8,12],\n",
    "#     'min_samples_leaf':1, 'min_weight_fraction_leaf':0.0, \n",
    "     'max_features':['log2', 'auto'], \n",
    "#     'max_leaf_nodes':None, \n",
    "#     'min_impurity_split':1e-07, 'bootstrap':True, 'oob_score':False, \n",
    "#     'n_jobs':1,  'class_weight': None\n",
    "    \n",
    "}\n",
    "\n",
    "rfs_gs = GridSearchCV(clf, rfc_params, cv=5, verbose=1)\n",
    "rfs_gs.fit(X_chem_sect, y)"
   ]
  },
  {
   "cell_type": "code",
   "execution_count": 306,
   "metadata": {
    "collapsed": false
   },
   "outputs": [
    {
     "data": {
      "text/plain": [
       "0.65740025740025743"
      ]
     },
     "execution_count": 306,
     "metadata": {},
     "output_type": "execute_result"
    }
   ],
   "source": [
    "rfs_gs.best_score_"
   ]
  },
  {
   "cell_type": "code",
   "execution_count": 307,
   "metadata": {
    "collapsed": false
   },
   "outputs": [
    {
     "name": "stdout",
     "output_type": "stream",
     "text": [
      "RandomForestClassifier(bootstrap=True, class_weight=None, criterion='gini',\n",
      "            max_depth=None, max_features='log2', max_leaf_nodes=None,\n",
      "            min_samples_leaf=1, min_samples_split=6,\n",
      "            min_weight_fraction_leaf=0.0, n_estimators=100, n_jobs=1,\n",
      "            oob_score=False, random_state=None, verbose=0,\n",
      "            warm_start=False)\n",
      "{'max_features': 'log2', 'min_samples_split': 6, 'n_estimators': 100}\n"
     ]
    }
   ],
   "source": [
    "print rfs_gs.best_estimator_ \n",
    "print rfs_gs.best_params_"
   ]
  },
  {
   "cell_type": "code",
   "execution_count": 324,
   "metadata": {
    "collapsed": false,
    "scrolled": false
   },
   "outputs": [
    {
     "data": {
      "text/plain": [
       "[(0.51727886826754088, 'INDUSTRY_SECTOR_CODE'),\n",
       " (0.010004842979887765,\n",
       "  'CHEMICAL_SULFURIC ACID (1994 AND AFTER ACID AEROSOLS\" ONLY)\"'),\n",
       " (0.0079668228731973427, 'CHEMICAL_NITRATE COMPOUNDS'),\n",
       " (0.0073408844369849176, 'CHEMICAL_N-METHYL-2-PYRROLIDONE'),\n",
       " (0.0071159389198626952, 'CHEMICAL_TOLUENE')]"
      ]
     },
     "execution_count": 324,
     "metadata": {},
     "output_type": "execute_result"
    }
   ],
   "source": [
    "zip1 = zip(rfs_gs.best_estimator_.feature_importances_, X_chem_sect.columns)\n",
    "\n",
    "short_zip1 = sorted([i for i in zip1], key=lambda x: x[0], reverse = True)[:30]\n",
    "short_zip1[:5]\n",
    "\n"
   ]
  },
  {
   "cell_type": "code",
   "execution_count": null,
   "metadata": {
    "collapsed": true
   },
   "outputs": [],
   "source": []
  },
  {
   "cell_type": "code",
   "execution_count": 319,
   "metadata": {
    "collapsed": false
   },
   "outputs": [],
   "source": [
    "X_sectors = TRI_14_sm[  'INDUSTRY_SECTOR_CODE'].astype('category')\n",
    "X_sectors = pd.get_dummies(X_sectors)\n"
   ]
  },
  {
   "cell_type": "code",
   "execution_count": 317,
   "metadata": {
    "collapsed": false
   },
   "outputs": [
    {
     "name": "stdout",
     "output_type": "stream",
     "text": [
      "Fitting 5 folds for each of 16 candidates, totalling 80 fits\n"
     ]
    },
    {
     "name": "stderr",
     "output_type": "stream",
     "text": [
      "[Parallel(n_jobs=1)]: Done  49 tasks       | elapsed:   32.7s\n",
      "[Parallel(n_jobs=1)]: Done  80 out of  80 | elapsed:   56.9s finished\n"
     ]
    },
    {
     "data": {
      "text/plain": [
       "GridSearchCV(cv=5, error_score='raise',\n",
       "       estimator=RandomForestClassifier(bootstrap=True, class_weight=None, criterion='gini',\n",
       "            max_depth=None, max_features='auto', max_leaf_nodes=None,\n",
       "            min_samples_leaf=1, min_samples_split=2,\n",
       "            min_weight_fraction_leaf=0.0, n_estimators=10, n_jobs=1,\n",
       "            oob_score=False, random_state=None, verbose=0,\n",
       "            warm_start=False),\n",
       "       fit_params={}, iid=True, n_jobs=1,\n",
       "       param_grid={'n_estimators': [100, 250], 'min_samples_split': [2, 6, 8, 12], 'max_features': ['log2', 'auto']},\n",
       "       pre_dispatch='2*n_jobs', refit=True, scoring=None, verbose=1)"
      ]
     },
     "execution_count": 317,
     "metadata": {},
     "output_type": "execute_result"
    }
   ],
   "source": [
    "rfc_params = {\n",
    "    'n_estimators':[100,250], \n",
    "#     'criterion':'gini', \n",
    "#     'max_depth': None,\n",
    "    'min_samples_split': [2,6,8,12],\n",
    "#     'min_samples_leaf':1, 'min_weight_fraction_leaf':0.0, \n",
    "     'max_features':['log2', 'auto'], \n",
    "#     'max_leaf_nodes':None, \n",
    "#     'min_impurity_split':1e-07, 'bootstrap':True, 'oob_score':False, \n",
    "#     'n_jobs':1,  'class_weight': None\n",
    "    \n",
    "}\n",
    "\n",
    "rfs_aa = GridSearchCV(clf, rfc_params, cv=5, verbose=1)\n",
    "rfs_aa.fit(X_sectors, y)"
   ]
  },
  {
   "cell_type": "code",
   "execution_count": 318,
   "metadata": {
    "collapsed": false
   },
   "outputs": [
    {
     "data": {
      "text/plain": [
       "0.6782496782496783"
      ]
     },
     "execution_count": 318,
     "metadata": {},
     "output_type": "execute_result"
    }
   ],
   "source": [
    "rfs_aa.best_score_"
   ]
  },
  {
   "cell_type": "code",
   "execution_count": 321,
   "metadata": {
    "collapsed": false
   },
   "outputs": [
    {
     "name": "stdout",
     "output_type": "stream",
     "text": [
      "RandomForestClassifier(bootstrap=True, class_weight=None, criterion='gini',\n",
      "            max_depth=None, max_features='log2', max_leaf_nodes=None,\n",
      "            min_samples_leaf=1, min_samples_split=6,\n",
      "            min_weight_fraction_leaf=0.0, n_estimators=100, n_jobs=1,\n",
      "            oob_score=False, random_state=None, verbose=0,\n",
      "            warm_start=False)\n",
      "{'max_features': 'log2', 'min_samples_split': 6, 'n_estimators': 100}\n"
     ]
    }
   ],
   "source": [
    "print rfs_aa.best_estimator_ \n",
    "print rfs_aa.best_params_"
   ]
  },
  {
   "cell_type": "code",
   "execution_count": 325,
   "metadata": {
    "collapsed": false
   },
   "outputs": [
    {
     "data": {
      "text/plain": [
       "[(0.35742485979198413, 334),\n",
       " (0.12171204512288032, 4247),\n",
       " (0.069451496598039869, 562),\n",
       " (0.069412948349078685, 321),\n",
       " (0.063532729924133238, 4246),\n",
       " (0.046573667509247671, 322),\n",
       " (0.045527089518005874, 311),\n",
       " (0.039919604447944936, 331),\n",
       " (0.025439154289250459, 999),\n",
       " (0.022713953201663407, 327)]"
      ]
     },
     "execution_count": 325,
     "metadata": {},
     "output_type": "execute_result"
    }
   ],
   "source": [
    "zip2 = zip(rfs_aa.best_estimator_.feature_importances_, X_sectors.columns)\n",
    "\n",
    "short_zip2 = sorted([i for i in zip2], key=lambda x: x[0], reverse = True)[:30]\n",
    "short_zip2[:10]\n"
   ]
  },
  {
   "cell_type": "code",
   "execution_count": null,
   "metadata": {
    "collapsed": true
   },
   "outputs": [],
   "source": [
    "## 334 is Computer and Electronic\n",
    "## 4247 Petroleum and Petroleum Products Merchant Wholesalers\n",
    "## 562 Hazardous Waste\n"
   ]
  },
  {
   "cell_type": "code",
   "execution_count": null,
   "metadata": {
    "collapsed": true
   },
   "outputs": [],
   "source": [
    "## THIS SECTION needs some sweet vizzes. Like, explicitly, to go through the industry column, understand the \n",
    "## distribs there, and feat engineer what's going on for related industries\n",
    "## also then a map of CA where i could thumb through the different, but like industries. "
   ]
  },
  {
   "cell_type": "code",
   "execution_count": null,
   "metadata": {
    "collapsed": true
   },
   "outputs": [],
   "source": []
  },
  {
   "cell_type": "code",
   "execution_count": null,
   "metadata": {
    "collapsed": true
   },
   "outputs": [],
   "source": []
  },
  {
   "cell_type": "code",
   "execution_count": null,
   "metadata": {
    "collapsed": true
   },
   "outputs": [],
   "source": []
  },
  {
   "cell_type": "code",
   "execution_count": null,
   "metadata": {
    "collapsed": true
   },
   "outputs": [],
   "source": [
    "# mask = np.zeros_like(ca_solar_df_num_corr, dtype=np.bool)\n",
    "# mask[np.triu_indices_from(mask)] = True\n",
    "\n",
    "# fig, ax = plt.subplots(figsize=(8,7))\n",
    "# ax = sns.heatmap(ca_solar_df_num_corr, mask=mask)\n",
    "\n",
    "# ax.set_xticklabels(ax.xaxis.get_ticklabels(), fontsize=14, rotation=45)\n",
    "# ax.set_yticklabels(ax.yaxis.get_ticklabels(), fontsize=14, rotation=0)\n",
    "\n",
    "# plt.show()"
   ]
  },
  {
   "cell_type": "code",
   "execution_count": null,
   "metadata": {
    "collapsed": true
   },
   "outputs": [],
   "source": []
  },
  {
   "cell_type": "code",
   "execution_count": 43,
   "metadata": {
    "collapsed": true
   },
   "outputs": [],
   "source": [
    "# sns.regplot(advertising.TV, advertising.Sales, order=1, ci=None, scatter_kws={'color':'r'})\n",
    "# plt.xlim(-10,310) \n",
    "# plt.ylim(ymin=0);"
   ]
  },
  {
   "cell_type": "code",
   "execution_count": 47,
   "metadata": {
    "collapsed": false
   },
   "outputs": [
    {
     "name": "stdout",
     "output_type": "stream",
     "text": [
      "Fitting 10 folds for each of 8 candidates, totalling 80 fits\n"
     ]
    },
    {
     "name": "stderr",
     "output_type": "stream",
     "text": [
      "[Parallel(n_jobs=1)]: Done  49 tasks       | elapsed:    5.8s\n",
      "[Parallel(n_jobs=1)]: Done  80 out of  80 | elapsed:    9.5s finished\n"
     ]
    },
    {
     "data": {
      "text/plain": [
       "GridSearchCV(cv=10, error_score='raise',\n",
       "       estimator=KNeighborsClassifier(algorithm='auto', leaf_size=30, metric='minkowski',\n",
       "           metric_params=None, n_jobs=1, n_neighbors=5, p=2,\n",
       "           weights='uniform'),\n",
       "       fit_params={}, iid=True, n_jobs=1,\n",
       "       param_grid={'n_neighbors': [1, 2, 3, 4], 'weights': ['distance', 'uniform']},\n",
       "       pre_dispatch='2*n_jobs', refit=True, scoring=None, verbose=1)"
      ]
     },
     "execution_count": 47,
     "metadata": {},
     "output_type": "execute_result"
    }
   ],
   "source": [
    "\n",
    "knn_params = {\n",
    "    'n_neighbors':range(1,5),\n",
    "    'weights':['distance','uniform']\n",
    "}\n",
    "\n",
    "knn_gs = GridSearchCV(KNeighborsClassifier(), knn_params, cv=10, verbose=1)\n",
    "knn_gs.fit(X_big, y)"
   ]
  },
  {
   "cell_type": "code",
   "execution_count": null,
   "metadata": {
    "collapsed": true
   },
   "outputs": [],
   "source": []
  },
  {
   "cell_type": "code",
   "execution_count": 48,
   "metadata": {
    "collapsed": false
   },
   "outputs": [
    {
     "name": "stdout",
     "output_type": "stream",
     "text": [
      "{'n_neighbors': 3, 'weights': 'uniform'}\n",
      "0.60102960103\n"
     ]
    }
   ],
   "source": [
    "knn_best = knn_gs.best_estimator_\n",
    "print knn_gs.best_params_\n",
    "print knn_gs.best_score_"
   ]
  },
  {
   "cell_type": "code",
   "execution_count": null,
   "metadata": {
    "collapsed": true
   },
   "outputs": [],
   "source": [
    "\n",
    "knn_params = {\n",
    "    'n_neighbors':range(1,5),\n",
    "    'weights':['distance','uniform']\n",
    "}\n",
    "\n",
    "knn_gs = GridSearchCV(KNeighborsClassifier(), knn_params, cv=10, verbose=1)\n",
    "knn_gs.fit(X_big, y)"
   ]
  },
  {
   "cell_type": "code",
   "execution_count": null,
   "metadata": {
    "collapsed": true
   },
   "outputs": [],
   "source": []
  },
  {
   "cell_type": "code",
   "execution_count": null,
   "metadata": {
    "collapsed": true
   },
   "outputs": [],
   "source": []
  },
  {
   "cell_type": "code",
   "execution_count": null,
   "metadata": {
    "collapsed": true
   },
   "outputs": [],
   "source": []
  },
  {
   "cell_type": "code",
   "execution_count": null,
   "metadata": {
    "collapsed": true
   },
   "outputs": [],
   "source": []
  },
  {
   "cell_type": "code",
   "execution_count": null,
   "metadata": {
    "collapsed": true
   },
   "outputs": [],
   "source": []
  },
  {
   "cell_type": "code",
   "execution_count": null,
   "metadata": {
    "collapsed": true
   },
   "outputs": [],
   "source": []
  },
  {
   "cell_type": "code",
   "execution_count": null,
   "metadata": {
    "collapsed": true
   },
   "outputs": [],
   "source": []
  },
  {
   "cell_type": "code",
   "execution_count": null,
   "metadata": {
    "collapsed": false
   },
   "outputs": [],
   "source": [
    "from sklearn.svm import SVC\n",
    "#  'kernel':['linear','rbf']\n",
    "# 'C':np.logspace(1e-4, 1e1, 3)\n",
    "\n",
    "svc_params = {\n",
    "    'C':np.logspace(1e-4, 1e1, 3),\n",
    "    'kernel':['linear']\n",
    "}\n",
    "\n",
    "svc_gs = GridSearchCV(SVC(), svc_params, cv=2, verbose=1)\n",
    "svc_gs.fit(X_big, y)"
   ]
  },
  {
   "cell_type": "code",
   "execution_count": 74,
   "metadata": {
    "collapsed": false
   },
   "outputs": [],
   "source": [
    "import xgboost as xgb\n",
    "# from xgboost.sklearn import XGBClassifier\n",
    "from sklearn.cross_validation import train_test_split"
   ]
  },
  {
   "cell_type": "code",
   "execution_count": 77,
   "metadata": {
    "collapsed": true
   },
   "outputs": [],
   "source": []
  },
  {
   "cell_type": "code",
   "execution_count": 78,
   "metadata": {
    "collapsed": true
   },
   "outputs": [],
   "source": [
    "dtrain = xgb.DMatrix(X_train, label = y)\n",
    "dtest = xgb.DMatrix(X_test)\n",
    "\n",
    "params = {\"max_depth\": 3, \"eta\":0.1}\n",
    "model = xgb.cv(params, dtrain,  num_boost_round=500, early_stopping_rounds=100)"
   ]
  },
  {
   "cell_type": "code",
   "execution_count": 79,
   "metadata": {
    "collapsed": false,
    "scrolled": true
   },
   "outputs": [
    {
     "data": {
      "text/plain": [
       "<matplotlib.axes._subplots.AxesSubplot at 0x11945c2d0>"
      ]
     },
     "execution_count": 79,
     "metadata": {},
     "output_type": "execute_result"
    },
    {
     "data": {
      "image/png": "[encoded data removed]",
      "text/plain": [
       "<matplotlib.figure.Figure at 0x1191c2c90>"
      ]
     },
     "metadata": {},
     "output_type": "display_data"
    }
   ],
   "source": [
    "\n",
    "model.loc[1:,[\"test-rmse-mean\", \"train-rmse-mean\"]].plot()"
   ]
  },
  {
   "cell_type": "code",
   "execution_count": 80,
   "metadata": {
    "collapsed": false
   },
   "outputs": [
    {
     "data": {
      "text/plain": [
       "<matplotlib.axes._subplots.AxesSubplot at 0x11457b8d0>"
      ]
     },
     "execution_count": 80,
     "metadata": {},
     "output_type": "execute_result"
    },
    {
     "data": {
      "image/png": "[encoded data removed]",
      "text/plain": [
       "<matplotlib.figure.Figure at 0x114573d90>"
      ]
     },
     "metadata": {},
     "output_type": "display_data"
    }
   ],
   "source": [
    "params = {\"max_depth\": 5, \"eta\":.1}\n",
    "model = xgb.cv(params, dtrain,  num_boost_round=500, early_stopping_rounds=100)\n",
    "model.loc[5:,[\"test-rmse-mean\", \"train-rmse-mean\"]].plot()"
   ]
  },
  {
   "cell_type": "code",
   "execution_count": 81,
   "metadata": {
    "collapsed": false
   },
   "outputs": [
    {
     "data": {
      "text/plain": [
       "<matplotlib.axes._subplots.AxesSubplot at 0x11d1e39d0>"
      ]
     },
     "execution_count": 81,
     "metadata": {},
     "output_type": "execute_result"
    },
    {
     "data": {
      "image/png": "[encoded data removed]",
      "text/plain": [
       "<matplotlib.figure.Figure at 0x11d1f8590>"
      ]
     },
     "metadata": {},
     "output_type": "display_data"
    }
   ],
   "source": [
    "params = {\"max_depth\": 2, \"eta\":.1}\n",
    "model = xgb.cv(params, dtrain,  num_boost_round=700, early_stopping_rounds=100)\n",
    "model.loc[5:,[\"test-rmse-mean\", \"train-rmse-mean\"]].plot()"
   ]
  },
  {
   "cell_type": "code",
   "execution_count": null,
   "metadata": {
    "collapsed": true
   },
   "outputs": [],
   "source": []
  },
  {
   "cell_type": "code",
   "execution_count": 82,
   "metadata": {
    "collapsed": false
   },
   "outputs": [
    {
     "ename": "XGBoostError",
     "evalue": "[13:49:54] src/objective/regression_obj.cc:90: Check failed: (preds.size()) == (info.labels.size()) labels are not correctly providedpreds.size=2602, label.size=3885",
     "output_type": "error",
     "traceback": [
      "\u001b[0;31m---------------------------------------------------------------------------\u001b[0m",
      "\u001b[0;31mXGBoostError\u001b[0m                              Traceback (most recent call last)",
      "\u001b[0;32m<ipython-input-82-ddeec42f2765>\u001b[0m in \u001b[0;36m<module>\u001b[0;34m()\u001b[0m\n\u001b[1;32m      1\u001b[0m \u001b[0mmodel_xgb\u001b[0m \u001b[0;34m=\u001b[0m \u001b[0mxgb\u001b[0m\u001b[0;34m.\u001b[0m\u001b[0mXGBRegressor\u001b[0m\u001b[0;34m(\u001b[0m\u001b[0mn_estimators\u001b[0m\u001b[0;34m=\u001b[0m\u001b[0;36m360\u001b[0m\u001b[0;34m,\u001b[0m \u001b[0mmax_depth\u001b[0m\u001b[0;34m=\u001b[0m\u001b[0;36m5\u001b[0m\u001b[0;34m,\u001b[0m \u001b[0mlearning_rate\u001b[0m\u001b[0;34m=\u001b[0m\u001b[0;36m0.1\u001b[0m\u001b[0;34m)\u001b[0m \u001b[0;31m#the params were tuned using xgb.cv\u001b[0m\u001b[0;34m\u001b[0m\u001b[0m\n\u001b[0;32m----> 2\u001b[0;31m \u001b[0mmodel_xgb\u001b[0m\u001b[0;34m.\u001b[0m\u001b[0mfit\u001b[0m\u001b[0;34m(\u001b[0m\u001b[0mX_train\u001b[0m\u001b[0;34m,\u001b[0m \u001b[0my\u001b[0m\u001b[0;34m)\u001b[0m\u001b[0;34m\u001b[0m\u001b[0m\n\u001b[0m",
      "\u001b[0;32m//anaconda/lib/python2.7/site-packages/xgboost-0.6-py2.7.egg/xgboost/sklearn.pyc\u001b[0m in \u001b[0;36mfit\u001b[0;34m(self, X, y, eval_set, eval_metric, early_stopping_rounds, verbose)\u001b[0m\n\u001b[1;32m    249\u001b[0m                               \u001b[0mearly_stopping_rounds\u001b[0m\u001b[0;34m=\u001b[0m\u001b[0mearly_stopping_rounds\u001b[0m\u001b[0;34m,\u001b[0m\u001b[0;34m\u001b[0m\u001b[0m\n\u001b[1;32m    250\u001b[0m                               \u001b[0mevals_result\u001b[0m\u001b[0;34m=\u001b[0m\u001b[0mevals_result\u001b[0m\u001b[0;34m,\u001b[0m \u001b[0mobj\u001b[0m\u001b[0;34m=\u001b[0m\u001b[0mobj\u001b[0m\u001b[0;34m,\u001b[0m \u001b[0mfeval\u001b[0m\u001b[0;34m=\u001b[0m\u001b[0mfeval\u001b[0m\u001b[0;34m,\u001b[0m\u001b[0;34m\u001b[0m\u001b[0m\n\u001b[0;32m--> 251\u001b[0;31m                               verbose_eval=verbose)\n\u001b[0m\u001b[1;32m    252\u001b[0m \u001b[0;34m\u001b[0m\u001b[0m\n\u001b[1;32m    253\u001b[0m         \u001b[0;32mif\u001b[0m \u001b[0mevals_result\u001b[0m\u001b[0;34m:\u001b[0m\u001b[0;34m\u001b[0m\u001b[0m\n",
      "\u001b[0;32m//anaconda/lib/python2.7/site-packages/xgboost-0.6-py2.7.egg/xgboost/training.pyc\u001b[0m in \u001b[0;36mtrain\u001b[0;34m(params, dtrain, num_boost_round, evals, obj, feval, maximize, early_stopping_rounds, evals_result, verbose_eval, learning_rates, xgb_model, callbacks)\u001b[0m\n\u001b[1;32m    201\u001b[0m                            \u001b[0mevals\u001b[0m\u001b[0;34m=\u001b[0m\u001b[0mevals\u001b[0m\u001b[0;34m,\u001b[0m\u001b[0;34m\u001b[0m\u001b[0m\n\u001b[1;32m    202\u001b[0m                            \u001b[0mobj\u001b[0m\u001b[0;34m=\u001b[0m\u001b[0mobj\u001b[0m\u001b[0;34m,\u001b[0m \u001b[0mfeval\u001b[0m\u001b[0;34m=\u001b[0m\u001b[0mfeval\u001b[0m\u001b[0;34m,\u001b[0m\u001b[0;34m\u001b[0m\u001b[0m\n\u001b[0;32m--> 203\u001b[0;31m                            xgb_model=xgb_model, callbacks=callbacks)\n\u001b[0m\u001b[1;32m    204\u001b[0m \u001b[0;34m\u001b[0m\u001b[0m\n\u001b[1;32m    205\u001b[0m \u001b[0;34m\u001b[0m\u001b[0m\n",
      "\u001b[0;32m//anaconda/lib/python2.7/site-packages/xgboost-0.6-py2.7.egg/xgboost/training.pyc\u001b[0m in \u001b[0;36m_train_internal\u001b[0;34m(params, dtrain, num_boost_round, evals, obj, feval, xgb_model, callbacks)\u001b[0m\n\u001b[1;32m     72\u001b[0m         \u001b[0;31m# Skip the first update if it is a recovery step.\u001b[0m\u001b[0;34m\u001b[0m\u001b[0;34m\u001b[0m\u001b[0m\n\u001b[1;32m     73\u001b[0m         \u001b[0;32mif\u001b[0m \u001b[0mversion\u001b[0m \u001b[0;34m%\u001b[0m \u001b[0;36m2\u001b[0m \u001b[0;34m==\u001b[0m \u001b[0;36m0\u001b[0m\u001b[0;34m:\u001b[0m\u001b[0;34m\u001b[0m\u001b[0m\n\u001b[0;32m---> 74\u001b[0;31m             \u001b[0mbst\u001b[0m\u001b[0;34m.\u001b[0m\u001b[0mupdate\u001b[0m\u001b[0;34m(\u001b[0m\u001b[0mdtrain\u001b[0m\u001b[0;34m,\u001b[0m \u001b[0mi\u001b[0m\u001b[0;34m,\u001b[0m \u001b[0mobj\u001b[0m\u001b[0;34m)\u001b[0m\u001b[0;34m\u001b[0m\u001b[0m\n\u001b[0m\u001b[1;32m     75\u001b[0m             \u001b[0mbst\u001b[0m\u001b[0;34m.\u001b[0m\u001b[0msave_rabit_checkpoint\u001b[0m\u001b[0;34m(\u001b[0m\u001b[0;34m)\u001b[0m\u001b[0;34m\u001b[0m\u001b[0m\n\u001b[1;32m     76\u001b[0m             \u001b[0mversion\u001b[0m \u001b[0;34m+=\u001b[0m \u001b[0;36m1\u001b[0m\u001b[0;34m\u001b[0m\u001b[0m\n",
      "\u001b[0;32m//anaconda/lib/python2.7/site-packages/xgboost-0.6-py2.7.egg/xgboost/core.pyc\u001b[0m in \u001b[0;36mupdate\u001b[0;34m(self, dtrain, iteration, fobj)\u001b[0m\n\u001b[1;32m    817\u001b[0m \u001b[0;34m\u001b[0m\u001b[0m\n\u001b[1;32m    818\u001b[0m         \u001b[0;32mif\u001b[0m \u001b[0mfobj\u001b[0m \u001b[0;32mis\u001b[0m \u001b[0mNone\u001b[0m\u001b[0;34m:\u001b[0m\u001b[0;34m\u001b[0m\u001b[0m\n\u001b[0;32m--> 819\u001b[0;31m             \u001b[0m_check_call\u001b[0m\u001b[0;34m(\u001b[0m\u001b[0m_LIB\u001b[0m\u001b[0;34m.\u001b[0m\u001b[0mXGBoosterUpdateOneIter\u001b[0m\u001b[0;34m(\u001b[0m\u001b[0mself\u001b[0m\u001b[0;34m.\u001b[0m\u001b[0mhandle\u001b[0m\u001b[0;34m,\u001b[0m \u001b[0miteration\u001b[0m\u001b[0;34m,\u001b[0m \u001b[0mdtrain\u001b[0m\u001b[0;34m.\u001b[0m\u001b[0mhandle\u001b[0m\u001b[0;34m)\u001b[0m\u001b[0;34m)\u001b[0m\u001b[0;34m\u001b[0m\u001b[0m\n\u001b[0m\u001b[1;32m    820\u001b[0m         \u001b[0;32melse\u001b[0m\u001b[0;34m:\u001b[0m\u001b[0;34m\u001b[0m\u001b[0m\n\u001b[1;32m    821\u001b[0m             \u001b[0mpred\u001b[0m \u001b[0;34m=\u001b[0m \u001b[0mself\u001b[0m\u001b[0;34m.\u001b[0m\u001b[0mpredict\u001b[0m\u001b[0;34m(\u001b[0m\u001b[0mdtrain\u001b[0m\u001b[0;34m)\u001b[0m\u001b[0;34m\u001b[0m\u001b[0m\n",
      "\u001b[0;32m//anaconda/lib/python2.7/site-packages/xgboost-0.6-py2.7.egg/xgboost/core.pyc\u001b[0m in \u001b[0;36m_check_call\u001b[0;34m(ret)\u001b[0m\n\u001b[1;32m    125\u001b[0m     \"\"\"\n\u001b[1;32m    126\u001b[0m     \u001b[0;32mif\u001b[0m \u001b[0mret\u001b[0m \u001b[0;34m!=\u001b[0m \u001b[0;36m0\u001b[0m\u001b[0;34m:\u001b[0m\u001b[0;34m\u001b[0m\u001b[0m\n\u001b[0;32m--> 127\u001b[0;31m         \u001b[0;32mraise\u001b[0m \u001b[0mXGBoostError\u001b[0m\u001b[0;34m(\u001b[0m\u001b[0m_LIB\u001b[0m\u001b[0;34m.\u001b[0m\u001b[0mXGBGetLastError\u001b[0m\u001b[0;34m(\u001b[0m\u001b[0;34m)\u001b[0m\u001b[0;34m)\u001b[0m\u001b[0;34m\u001b[0m\u001b[0m\n\u001b[0m\u001b[1;32m    128\u001b[0m \u001b[0;34m\u001b[0m\u001b[0m\n\u001b[1;32m    129\u001b[0m \u001b[0;34m\u001b[0m\u001b[0m\n",
      "\u001b[0;31mXGBoostError\u001b[0m: [13:49:54] src/objective/regression_obj.cc:90: Check failed: (preds.size()) == (info.labels.size()) labels are not correctly providedpreds.size=2602, label.size=3885"
     ]
    }
   ],
   "source": [
    "model_xgb = xgb.XGBRegressor(n_estimators=360, max_depth=5, learning_rate=0.1) #the params were tuned using xgb.cv\n",
    "model_xgb.fit(X_train, y)"
   ]
  },
  {
   "cell_type": "code",
   "execution_count": null,
   "metadata": {
    "collapsed": true
   },
   "outputs": [],
   "source": [
    "xgb_preds = np.expm1(model_xgb.predict(X_test))"
   ]
  },
  {
   "cell_type": "code",
   "execution_count": null,
   "metadata": {
    "collapsed": true
   },
   "outputs": [],
   "source": [
    "solution = pd.DataFrame({\"id\":test.Id, \"SalePrice\":xgb_preds})"
   ]
  },
  {
   "cell_type": "code",
   "execution_count": null,
   "metadata": {
    "collapsed": true
   },
   "outputs": [],
   "source": []
  },
  {
   "cell_type": "code",
   "execution_count": null,
   "metadata": {
    "collapsed": true
   },
   "outputs": [],
   "source": []
  },
  {
   "cell_type": "code",
   "execution_count": null,
   "metadata": {
    "collapsed": true
   },
   "outputs": [],
   "source": []
  },
  {
   "cell_type": "code",
   "execution_count": null,
   "metadata": {
    "collapsed": true
   },
   "outputs": [],
   "source": []
  },
  {
   "cell_type": "code",
   "execution_count": null,
   "metadata": {
    "collapsed": true
   },
   "outputs": [],
   "source": []
  },
  {
   "cell_type": "code",
   "execution_count": null,
   "metadata": {
    "collapsed": true
   },
   "outputs": [],
   "source": []
  },
  {
   "cell_type": "code",
   "execution_count": null,
   "metadata": {
    "collapsed": true
   },
   "outputs": [],
   "source": []
  }
 ],
 "metadata": {
  "anaconda-cloud": {},
  "kernelspec": {
   "display_name": "Python [conda root]",
   "language": "python",
   "name": "conda-root-py"
  },
  "language_info": {
   "codemirror_mode": {
    "name": "ipython",
    "version": 2
   },
   "file_extension": ".py",
   "mimetype": "text/x-python",
   "name": "python",
   "nbconvert_exporter": "python",
   "pygments_lexer": "ipython2",
   "version": "2.7.12"
  }
 },
 "nbformat": 4,
 "nbformat_minor": 1
}
